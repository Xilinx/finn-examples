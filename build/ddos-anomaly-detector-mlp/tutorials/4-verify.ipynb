{
 "cells": [
  {
   "cell_type": "markdown",
   "id": "66386297-8e87-43e6-8ce5-00b9af4f5770",
   "metadata": {},
   "source": [
    "# DNN-Based DDoS Anomaly Detection in the Network Data Plane"
   ]
  },
  {
   "cell_type": "markdown",
   "id": "ad21b726-813f-46c0-b9aa-1c0a93eb6f03",
   "metadata": {},
   "source": [
    "In this 4-part notebook series, we show how a quantized neural network (QNN) can be trained to classify packets as belonging to DDoS (malicious) or regular (benign) network traffic flows. The model is trained with quantized weights and activations, and we use the [Brevitas](https://github.com/Xilinx/brevitas) framework to train the QNN. The model is then converted into an FPGA-friendly RTL implementation for high-throughput inference, which can be integrated with a packet-processing pipeline in the network data plane.\n",
    "\n",
    "This notebook series is composed of 4 parts. Below is a brief summary of what each part covers.\n",
    "\n",
    "[Part 1](./1-train.ipynb): How to use Brevitas to train a quantized neural network for our target application, which is classifying packets as belonging to malicious/DDoS or benign/normal network traffic flows. The output trained model at the end of this part is a pure software implementation, i.e. it cannot be converted to a custom RTL FINN model to run on an FPGA just yet.\n",
    "\n",
    "[Part 2](./2-prepare.ipynb): This notebook focuses on taking the output software model from the previous part and preparing it for hardware-friendly implementation using the FINN framework. The notebook describes the steps taken to \"surgery\" the software model in order for hardware generation via FINN. We also verify that all the changes made to the software model in this notebook DO NOT affect the output predictions in the \"surgeried\" model.\n",
    "\n",
    "[Part 3](./3-build.ipynb): In this notebook, we use the FINN framework to build the custom RTL accelerator for our target model. FINN can generate a variety of RTL accelerators, and this notebook covers some build configuration parameters that influence these outputs.\n",
    "\n",
    "[Part 4](./4-verify.ipynb): The generated hardware is simulated using cycle-accurate RTL simulation tools, and its outputs are compared against the original software-only model trained in part one. The output model from this step is now ready to be integrated into a larger FPGA design, which in this context is a packet-processing network data plane pipeline designed for identifying anomalous DDoS flows from benign flows.\n",
    "\n",
    "This tutorial series is a supplement to our demo paper presented at EuroP4 2023 workshop, titled [Enabling DNN Inference in the Network Data Plane](https://dl.acm.org/doi/10.1145/3630047.3630191). You can cite our work using the following BibTeX snippet:\n",
    "\n",
    "```\n",
    "@inproceedings{siddhartha2023enabling,\n",
    "  title={Enabling DNN Inference in the Network Data Plane},\n",
    "  author={Siddhartha and Tan, Justin and Bansal, Rajesh and Chee Cheun, Huang and Tokusashi, Yuta and Yew Kwan, Chong and Javaid, Haris and Baldi, Mario},\n",
    "  booktitle={Proceedings of the 6th on European P4 Workshop},\n",
    "  pages={65--68},\n",
    "  year={2023}\n",
    "}\n",
    "```"
   ]
  },
  {
   "cell_type": "markdown",
   "id": "c64ebd5c-8bc6-4b50-be59-946a96a19cf2",
   "metadata": {},
   "source": [
    "# Part 4: Verifying generated FINN hardware accelerator\n",
    "\n",
    "First step, house-keeping!\n",
    "\n",
    "### House-keeping"
   ]
  },
  {
   "cell_type": "code",
   "execution_count": 19,
   "id": "5df27e0f-a392-4166-a0ae-1b6ac7a09465",
   "metadata": {},
   "outputs": [
    {
     "name": "stdout",
     "output_type": "stream",
     "text": [
      "Target device: cpu\n"
     ]
    }
   ],
   "source": [
    "import os\n",
    "import onnx\n",
    "import json\n",
    "import random\n",
    "from os.path import join\n",
    "from copy import deepcopy\n",
    "from collections import Counter\n",
    "import torch\n",
    "import torch.nn as nn\n",
    "import numpy as np\n",
    "from torch.utils.data import DataLoader\n",
    "from brevitas.nn import QuantLinear, QuantReLU, QuantIdentity\n",
    "from finn.util.visualization import showInNetron\n",
    "from qonnx.core.modelwrapper import ModelWrapper\n",
    "from finn.transformation.fpgadataflow.prepare_rtlsim import PrepareRTLSim\n",
    "from finn.transformation.fpgadataflow.prepare_ip import PrepareIP\n",
    "from finn.transformation.fpgadataflow.hlssynth_ip import HLSSynthIP\n",
    "from finn.transformation.fpgadataflow.set_exec_mode import SetExecMode\n",
    "from qonnx.transformation.general import GiveUniqueNodeNames\n",
    "from qonnx.custom_op.registry import getCustomOp\n",
    "import finn.core.onnx_exec as oxe\n",
    "\n",
    "from utils.common import bcolors\n",
    "from utils.dataset import CICIDS2017_PerPacket\n",
    "from utils.train_test import test, verify_onnx\n",
    "\n",
    "# set seed for reproducibility\n",
    "random.seed(0)\n",
    "\n",
    "# Path to this end-to-end example's directory\n",
    "EXAMPLE_DIR = join(os.environ['FINN_ROOT'], \"notebooks/end2end_example/ddos-anomaly-detector\")\n",
    "\n",
    "# Path to build directory from part one\n",
    "BUILD_DIR_P1 = join(EXAMPLE_DIR, \"build\", \"part_01\")\n",
    "BUILD_DIR_P2 = join(EXAMPLE_DIR, \"build\", \"part_02\")\n",
    "BUILD_DIR_P3 = join(EXAMPLE_DIR, \"build\", \"part_03\")\n",
    "\n",
    "# Path to build directory to write outputs from this notebook to\n",
    "BUILD_DIR = join(EXAMPLE_DIR, \"build\", \"part_04\")\n",
    "os.makedirs(BUILD_DIR, exist_ok=True)\n",
    "\n",
    "# Path to where datasets are stored\n",
    "DATASET_DIR = join(EXAMPLE_DIR, \"data\")\n",
    "\n",
    "# get the target device to run model on\n",
    "device = torch.device(\"cuda\" if torch.cuda.is_available() else \"cpu\")\n",
    "print(f\"Target device: {device}\")"
   ]
  },
  {
   "cell_type": "markdown",
   "id": "92b66e42-7529-428e-81a3-17d4249f5d0f",
   "metadata": {},
   "source": [
    "Let's also load (i) binarized test set and (ii) software trained Brevitas model from Part 1 of this notebook series."
   ]
  },
  {
   "cell_type": "code",
   "execution_count": 20,
   "id": "65352ada-8ae5-433d-8b5b-2230cb28c8d0",
   "metadata": {
    "scrolled": true
   },
   "outputs": [
    {
     "name": "stdout",
     "output_type": "stream",
     "text": [
      "Loading CIC-IDS2017 per-packet-level dataset\n",
      "Loaded dataset of length = 130777\n",
      "Dataset statistics: 67375/130777 (51.52% TRUE labels)\n",
      "Dataset metadata: {\n",
      "    \"total_in_bitwidth\": 128,\n",
      "    \"ordering\": [\n",
      "        [\n",
      "            \"total_bytes\",\n",
      "            32\n",
      "        ],\n",
      "        [\n",
      "            \"duration_usec\",\n",
      "            64\n",
      "        ],\n",
      "        [\n",
      "            \"total_pkts\",\n",
      "            16\n",
      "        ],\n",
      "        [\n",
      "            \"total_urg\",\n",
      "            16\n",
      "        ]\n",
      "    ],\n",
      "    \"total_out_bitwidth\": 1\n",
      "}\n"
     ]
    }
   ],
   "source": [
    "# (i) Load the binarized test set\n",
    "\n",
    "# load the dataset_metadata.json config parameters\n",
    "with open(join(BUILD_DIR_P1, \"dataset_metadata.json\"), \"r\") as fp:\n",
    "    dataset_metadata = json.load(fp)\n",
    "\n",
    "# extract feature names from metadata\n",
    "feature_columns = [x[0] for x in dataset_metadata[\"ordering\"]]\n",
    "\n",
    "test_set_fpath = join(DATASET_DIR, \"cicids2017-split.test.csv\")\n",
    "dataset = CICIDS2017_PerPacket(test_set_fpath)\n",
    "test_set, _ = dataset.get_binarized_dataset(feature_columns)\n",
    "\n",
    "# Batch size to use for inference\n",
    "batch_size = 1000\n",
    "test_loader = DataLoader(test_set, batch_size=batch_size, shuffle=False)"
   ]
  },
  {
   "cell_type": "code",
   "execution_count": 21,
   "id": "d0205882-6637-4028-87a2-d64284b92140",
   "metadata": {},
   "outputs": [
    {
     "name": "stdout",
     "output_type": "stream",
     "text": [
      "Trained Brevitas model test accuracy = 85.1426%\n"
     ]
    }
   ],
   "source": [
    "# (ii) Load the software trained Brevitas model\n",
    "\n",
    "# Declare model architecture -- note that this must be identical to the model used\n",
    "# in part one, or else there may be errors loading in the trained weights\n",
    "input_size = dataset_metadata[\"total_in_bitwidth\"]\n",
    "hidden1 = 32\n",
    "hidden2 = 32\n",
    "weight_bit_width = 2\n",
    "act_bit_width = 2\n",
    "num_classes = dataset_metadata[\"total_out_bitwidth\"]\n",
    "\n",
    "brevitas_model = nn.Sequential(\n",
    "      QuantLinear(input_size, hidden1, bias=True, weight_bit_width=weight_bit_width),\n",
    "      nn.BatchNorm1d(hidden1),\n",
    "      nn.Dropout(0.5),\n",
    "      QuantReLU(bit_width=act_bit_width),\n",
    "      QuantLinear(hidden1, hidden2, bias=True, weight_bit_width=weight_bit_width),\n",
    "      nn.BatchNorm1d(hidden2),\n",
    "      nn.Dropout(0.5),\n",
    "      QuantReLU(bit_width=act_bit_width),\n",
    "      QuantLinear(hidden2, num_classes, bias=True, weight_bit_width=weight_bit_width)\n",
    ")\n",
    "\n",
    "# Make sure the model is on CPU before loading a pretrained state_dict\n",
    "brevitas_model = brevitas_model.cpu()\n",
    "\n",
    "# Load pretrained weights\n",
    "trained_state_dict = torch.load(join(BUILD_DIR_P1, \"trained_model.pth\"))\n",
    "brevitas_model.load_state_dict(trained_state_dict, strict=True)\n",
    "\n",
    "# Move model to target device and run inference on test set\n",
    "brevitas_model.to(device)\n",
    "print(f\"Trained Brevitas model test accuracy = {100*test(brevitas_model, test_loader, device):.4f}%\")"
   ]
  },
  {
   "cell_type": "markdown",
   "id": "dd16d38b-1787-417b-a8de-bf2dfcf65814",
   "metadata": {},
   "source": [
    "### RTL simulation of stitched IP\n",
    "\n",
    "Next, we do an RTL simulation of the stitched IP that has been created in part 3. Note that we can also do a CPP simualation of the HLS layers, which is something not covered in this notebook, but details about it can be found [in this notebook](https://github.com/Xilinx/finn/blob/v0.10/notebooks/end2end_example/bnn-pynq/tfc_end2end_verification.ipynb). A CPP simulation is a behavioural simulation, which can be used to debug intermediate HLS code that was generated by the FINN compiler.\n",
    "\n",
    "In order to do an RTL simulation, FINN docker comes with PyVerilator, which is a python-wrapper for Verilator, an open-source C++ based verilog simulator. We use the split ONNX graph mode to carry out the RTL simulation, where a parent dataflow graph consists of non-HW layers, while the child graph consists of all HW layers. The child model is referenced in the parent model using the `model` attribute in the `StreamingDataflowPartition` node in the parent graph.\n",
    "\n",
    "Let's start by first loading the child model, which consists of all the HLS/RTL stitched IP layers. We take the ONNX graph of the step that creates the stitched IP."
   ]
  },
  {
   "cell_type": "code",
   "execution_count": 22,
   "id": "ac2c9fe1-4738-4eed-be21-9fdb96d6e831",
   "metadata": {},
   "outputs": [],
   "source": [
    "model_stitched_ip_fpath = join(BUILD_DIR_P3, \"output_rtl\", \"intermediate_models\", \"step_create_stitched_ip.onnx\")\n",
    "child_model_for_rtlsim = ModelWrapper(model_stitched_ip_fpath)"
   ]
  },
  {
   "cell_type": "markdown",
   "id": "2bd9fc48-8e8c-4a54-aeee-f65612edc536",
   "metadata": {},
   "source": [
    "Next, we compile and create the Verilator emulation files, which prepares the model for RTL simulation."
   ]
  },
  {
   "cell_type": "code",
   "execution_count": 15,
   "id": "9ebabc91-4172-49db-90e4-96495f295ade",
   "metadata": {},
   "outputs": [],
   "source": [
    "%%capture\n",
    "\n",
    "test_fpga_part = \"xcu250-figd2104-2L-e\"\n",
    "target_clk_ns = 4.0\n",
    "\n",
    "child_model_for_rtlsim = child_model_for_rtlsim.transform(GiveUniqueNodeNames())\n",
    "child_model_for_rtlsim = child_model_for_rtlsim.transform(PrepareIP(test_fpga_part, target_clk_ns))\n",
    "child_model_for_rtlsim = child_model_for_rtlsim.transform(HLSSynthIP())\n",
    "child_model_for_rtlsim = child_model_for_rtlsim.transform(SetExecMode(\"rtlsim\"))\n",
    "child_model_for_rtlsim = child_model_for_rtlsim.transform(PrepareRTLSim())"
   ]
  },
  {
   "cell_type": "markdown",
   "id": "5da11deb-45e7-44c0-ba93-334118a3b56c",
   "metadata": {},
   "source": [
    "We can save the child model and view it in Netron."
   ]
  },
  {
   "cell_type": "code",
   "execution_count": 16,
   "id": "1ea90ef2-aaac-44d0-aca7-55d8bdc9cc5f",
   "metadata": {},
   "outputs": [],
   "source": [
    "output_rtlsim_dir = join(BUILD_DIR, \"output_rtlsim\")\n",
    "os.makedirs(output_rtlsim_dir, exist_ok=True)\n",
    "\n",
    "child_model_for_rtlsim_fpath = join(output_rtlsim_dir, \"child-model-for-rtlsim.onnx\")\n",
    "child_model_for_rtlsim.save(child_model_for_rtlsim_fpath)\n",
    "showInNetron(child_model_for_rtlsim_fpath)"
   ]
  },
  {
   "cell_type": "markdown",
   "id": "85c7d58e-2099-40d8-9738-2b3f5f7fc5bc",
   "metadata": {},
   "source": [
    "The next part is to embed the child model into the parent model, which is also generated in the `intermediate_models` directory. The `StreamingDataflowPartition` node (`sdp_node`) is annotated with the `model` property that points to the child model that was saved in the previous cell. The metadata property `exec_mode` is set to \"rtlsim\" for the whole child model, which means the entire child model is executed as a single stitched IP simulation."
   ]
  },
  {
   "cell_type": "code",
   "execution_count": 17,
   "id": "42132686-fac6-4174-8adf-813c76280109",
   "metadata": {},
   "outputs": [],
   "source": [
    "parent_model_fpath = join(BUILD_DIR_P3, \"output_rtl\", \"intermediate_models\", \"dataflow_parent.onnx\")\n",
    "parent_model = ModelWrapper(parent_model_fpath)\n",
    "sdp_node = getCustomOp(parent_model.graph.node[0])\n",
    "sdp_node.set_nodeattr(\"model\", child_model_for_rtlsim_fpath)\n",
    "parent_model = parent_model.transform(SetExecMode(\"rtlsim\"))"
   ]
  },
  {
   "cell_type": "markdown",
   "id": "5eb845db-8672-4971-9eea-dde2d27ad302",
   "metadata": {},
   "source": [
    "Now we are ready to run RTL simulation of the whole stitched IP! Note that this will be slower than software simulation, so we verify with a fewer number of examples. We can re-use our `verify_onnx()` helper function, since we are using the ONNX interface to do the RTL simulation using PyVerilator in the backend. Note that this cell may produce a lot of output (typically Verilator warnings), so you may have to scroll down to see the result. You should see all predictions match with the software model (i.e. `nok=0` in the progress bar), and non-zero counts for `tp` and `tn`, which will build confidence that the RTL model is predicting correctly on both positive/negative classes."
   ]
  },
  {
   "cell_type": "code",
   "execution_count": 61,
   "id": "181d9d4b-3a00-4b73-9108-ad675ff95e14",
   "metadata": {},
   "outputs": [
    {
     "name": "stdout",
     "output_type": "stream",
     "text": [
      "Running verification with tensor:\n",
      "tensor([[0., 0., 0.,  ..., 0., 0., 0.],\n",
      "        [0., 0., 0.,  ..., 0., 0., 0.],\n",
      "        [0., 0., 0.,  ..., 0., 0., 0.],\n",
      "        ...,\n",
      "        [0., 0., 0.,  ..., 0., 0., 0.],\n",
      "        [0., 0., 0.,  ..., 0., 0., 0.],\n",
      "        [0., 0., 0.,  ..., 0., 0., 0.]])\n"
     ]
    },
    {
     "name": "stderr",
     "output_type": "stream",
     "text": [
      "Verification (ONNX):   0%|                                                    | 0/10 [00:00<?, ?it/s]%Warning-TIMESCALEMOD: /home/sids/workspace/project_find_ml/finn/finn-rtllib/swg/swg_pkg.sv:32:9: Timescale missing on this module as other modules have it (IEEE 1800-2017 3.14.2.3)\n",
      "   32 | package swg;\n",
      "      |         ^~~\n",
      "                       /tmp/finn_dev_sids/vivado_stitch_proj__pfun89u/finn_design_wrapper.v:539:8: ... Location of module with timescale\n",
      "  539 | module MVAU_hls_0_Matrix_Vector_Activate_Batch (\n",
      "      |        ^~~~~~~~~~~~~~~~~~~~~~~~~~~~~~~~~~~~~~~\n",
      "                       ... For warning description see https://verilator.org/warn/TIMESCALEMOD?v=4.224\n",
      "                       ... Use \"/* verilator lint_off TIMESCALEMOD */\" and lint_on around source to disable this message.\n",
      "%Warning-TIMESCALEMOD: /tmp/finn_dev_sids/vivado_stitch_proj__pfun89u/finn_design_wrapper.v:61:8: Timescale missing on this module as other modules have it (IEEE 1800-2017 3.14.2.3)\n",
      "   61 | module finn_design_StreamingFIFO_rtl_2_0 (\n",
      "      |        ^~~~~~~~~~~~~~~~~~~~~~~~~~~~~~~~~\n",
      "                       /tmp/finn_dev_sids/vivado_stitch_proj__pfun89u/finn_design_wrapper.v:539:8: ... Location of module with timescale\n",
      "  539 | module MVAU_hls_0_Matrix_Vector_Activate_Batch (\n",
      "      |        ^~~~~~~~~~~~~~~~~~~~~~~~~~~~~~~~~~~~~~~\n",
      "%Warning-TIMESCALEMOD: /tmp/finn_dev_sids/vivado_stitch_proj__pfun89u/finn_design_wrapper.v:170:8: Timescale missing on this module as other modules have it (IEEE 1800-2017 3.14.2.3)\n",
      "  170 | module finn_design_MVAU_hls_0_0 (\n",
      "      |        ^~~~~~~~~~~~~~~~~~~~~~~~\n",
      "                       /tmp/finn_dev_sids/vivado_stitch_proj__pfun89u/finn_design_wrapper.v:539:8: ... Location of module with timescale\n",
      "  539 | module MVAU_hls_0_Matrix_Vector_Activate_Batch (\n",
      "      |        ^~~~~~~~~~~~~~~~~~~~~~~~~~~~~~~~~~~~~~~\n",
      "%Warning-TIMESCALEMOD: /tmp/finn_dev_sids/vivado_stitch_proj__pfun89u/finn_design_wrapper.v:290:8: Timescale missing on this module as other modules have it (IEEE 1800-2017 3.14.2.3)\n",
      "  290 | module Q_srl (clock, reset, i_d, i_v, i_r, o_d, o_v, o_r, count, maxcount);\n",
      "      |        ^~~~~\n",
      "                       /tmp/finn_dev_sids/vivado_stitch_proj__pfun89u/finn_design_wrapper.v:539:8: ... Location of module with timescale\n",
      "  539 | module MVAU_hls_0_Matrix_Vector_Activate_Batch (\n",
      "      |        ^~~~~~~~~~~~~~~~~~~~~~~~~~~~~~~~~~~~~~~\n",
      "ok 1 nok 0 (tp=1, tn=0, fp=0, fn=0):  10%|██▊                         | 1/10 [00:01<00:10,  1.14s/it]"
     ]
    },
    {
     "name": "stdout",
     "output_type": "stream",
     "text": [
      "make: Entering directory '/tmp/finn_dev_sids/pyverilator_ipstitched_mdl_nlmq'\n",
      "ccache g++  -I.  -MMD -I/usr/local/share/verilator/include -I/usr/local/share/verilator/include/vltstd -DVM_COVERAGE=0 -DVM_SC=0 -DVM_TRACE=1 -DVM_TRACE_FST=0 -DVM_TRACE_VCD=1 -faligned-new -fcf-protection=none -Wno-bool-operation -Wno-sign-compare -Wno-uninitialized -Wno-unused-but-set-variable -Wno-unused-parameter -Wno-unused-variable -Wno-shadow     -fPIC --std=c++11  -std=gnu++17 -Os -c -o pyverilator_wrapper.o /tmp/finn_dev_sids/pyverilator_ipstitched_mdl_nlmq/pyverilator_wrapper.cpp\n",
      "ccache g++  -I.  -MMD -I/usr/local/share/verilator/include -I/usr/local/share/verilator/include/vltstd -DVM_COVERAGE=0 -DVM_SC=0 -DVM_TRACE=1 -DVM_TRACE_FST=0 -DVM_TRACE_VCD=1 -faligned-new -fcf-protection=none -Wno-bool-operation -Wno-sign-compare -Wno-uninitialized -Wno-unused-but-set-variable -Wno-unused-parameter -Wno-unused-variable -Wno-shadow     -fPIC --std=c++11  -std=gnu++17 -Os -c -o verilated.o /usr/local/share/verilator/include/verilated.cpp\n",
      "ccache g++  -I.  -MMD -I/usr/local/share/verilator/include -I/usr/local/share/verilator/include/vltstd -DVM_COVERAGE=0 -DVM_SC=0 -DVM_TRACE=1 -DVM_TRACE_FST=0 -DVM_TRACE_VCD=1 -faligned-new -fcf-protection=none -Wno-bool-operation -Wno-sign-compare -Wno-uninitialized -Wno-unused-but-set-variable -Wno-unused-parameter -Wno-unused-variable -Wno-shadow     -fPIC --std=c++11  -std=gnu++17 -Os -c -o verilated_vcd_c.o /usr/local/share/verilator/include/verilated_vcd_c.cpp\n",
      "/usr/bin/perl /usr/local/share/verilator/bin/verilator_includer -DVL_INCLUDE_OPT=include Vfinn_design_wrapper.cpp Vfinn_design_wrapper___024root__DepSet_h47b9eb99__0.cpp Vfinn_design_wrapper__Trace__0.cpp Vfinn_design_wrapper__ConstPool_0.cpp Vfinn_design_wrapper___024root__Slow.cpp Vfinn_design_wrapper___024root__DepSet_h47b9eb99__0__Slow.cpp Vfinn_design_wrapper__Syms.cpp Vfinn_design_wrapper__Trace__0__Slow.cpp > Vfinn_design_wrapper__ALL.cpp\n",
      "ccache g++  -I.  -MMD -I/usr/local/share/verilator/include -I/usr/local/share/verilator/include/vltstd -DVM_COVERAGE=0 -DVM_SC=0 -DVM_TRACE=1 -DVM_TRACE_FST=0 -DVM_TRACE_VCD=1 -faligned-new -fcf-protection=none -Wno-bool-operation -Wno-sign-compare -Wno-uninitialized -Wno-unused-but-set-variable -Wno-unused-parameter -Wno-unused-variable -Wno-shadow     -fPIC --std=c++11  -std=gnu++17 -Os -c -o Vfinn_design_wrapper__ALL.o Vfinn_design_wrapper__ALL.cpp\n",
      "echo \"\" > Vfinn_design_wrapper__ALL.verilator_deplist.tmp\n",
      "Archive ar -rcs Vfinn_design_wrapper__ALL.a Vfinn_design_wrapper__ALL.o\n",
      "g++ -fPIC -shared pyverilator_wrapper.o verilated.o verilated_vcd_c.o Vfinn_design_wrapper__ALL.a      -o Vfinn_design_wrapper\n",
      "rm Vfinn_design_wrapper__ALL.verilator_deplist.tmp\n",
      "make: Leaving directory '/tmp/finn_dev_sids/pyverilator_ipstitched_mdl_nlmq'\n"
     ]
    },
    {
     "name": "stderr",
     "output_type": "stream",
     "text": [
      "%Warning-TIMESCALEMOD: /home/sids/workspace/project_find_ml/finn/finn-rtllib/swg/swg_pkg.sv:32:9: Timescale missing on this module as other modules have it (IEEE 1800-2017 3.14.2.3)\n",
      "   32 | package swg;\n",
      "      |         ^~~\n",
      "                       /tmp/finn_dev_sids/vivado_stitch_proj__pfun89u/finn_design_wrapper.v:539:8: ... Location of module with timescale\n",
      "  539 | module MVAU_hls_0_Matrix_Vector_Activate_Batch (\n",
      "      |        ^~~~~~~~~~~~~~~~~~~~~~~~~~~~~~~~~~~~~~~\n",
      "                       ... For warning description see https://verilator.org/warn/TIMESCALEMOD?v=4.224\n",
      "                       ... Use \"/* verilator lint_off TIMESCALEMOD */\" and lint_on around source to disable this message.\n",
      "%Warning-TIMESCALEMOD: /tmp/finn_dev_sids/vivado_stitch_proj__pfun89u/finn_design_wrapper.v:61:8: Timescale missing on this module as other modules have it (IEEE 1800-2017 3.14.2.3)\n",
      "   61 | module finn_design_StreamingFIFO_rtl_2_0 (\n",
      "      |        ^~~~~~~~~~~~~~~~~~~~~~~~~~~~~~~~~\n",
      "                       /tmp/finn_dev_sids/vivado_stitch_proj__pfun89u/finn_design_wrapper.v:539:8: ... Location of module with timescale\n",
      "  539 | module MVAU_hls_0_Matrix_Vector_Activate_Batch (\n",
      "      |        ^~~~~~~~~~~~~~~~~~~~~~~~~~~~~~~~~~~~~~~\n",
      "%Warning-TIMESCALEMOD: /tmp/finn_dev_sids/vivado_stitch_proj__pfun89u/finn_design_wrapper.v:170:8: Timescale missing on this module as other modules have it (IEEE 1800-2017 3.14.2.3)\n",
      "  170 | module finn_design_MVAU_hls_0_0 (\n",
      "      |        ^~~~~~~~~~~~~~~~~~~~~~~~\n",
      "                       /tmp/finn_dev_sids/vivado_stitch_proj__pfun89u/finn_design_wrapper.v:539:8: ... Location of module with timescale\n",
      "  539 | module MVAU_hls_0_Matrix_Vector_Activate_Batch (\n",
      "      |        ^~~~~~~~~~~~~~~~~~~~~~~~~~~~~~~~~~~~~~~\n",
      "%Warning-TIMESCALEMOD: /tmp/finn_dev_sids/vivado_stitch_proj__pfun89u/finn_design_wrapper.v:290:8: Timescale missing on this module as other modules have it (IEEE 1800-2017 3.14.2.3)\n",
      "  290 | module Q_srl (clock, reset, i_d, i_v, i_r, o_d, o_v, o_r, count, maxcount);\n",
      "      |        ^~~~~\n",
      "                       /tmp/finn_dev_sids/vivado_stitch_proj__pfun89u/finn_design_wrapper.v:539:8: ... Location of module with timescale\n",
      "  539 | module MVAU_hls_0_Matrix_Vector_Activate_Batch (\n",
      "      |        ^~~~~~~~~~~~~~~~~~~~~~~~~~~~~~~~~~~~~~~\n",
      "ok 2 nok 0 (tp=2, tn=0, fp=0, fn=0):  20%|█████▌                      | 2/10 [00:02<00:09,  1.14s/it]"
     ]
    },
    {
     "name": "stdout",
     "output_type": "stream",
     "text": [
      "make: Entering directory '/tmp/finn_dev_sids/pyverilator_ipstitched_e2fe9k77'\n",
      "ccache g++  -I.  -MMD -I/usr/local/share/verilator/include -I/usr/local/share/verilator/include/vltstd -DVM_COVERAGE=0 -DVM_SC=0 -DVM_TRACE=1 -DVM_TRACE_FST=0 -DVM_TRACE_VCD=1 -faligned-new -fcf-protection=none -Wno-bool-operation -Wno-sign-compare -Wno-uninitialized -Wno-unused-but-set-variable -Wno-unused-parameter -Wno-unused-variable -Wno-shadow     -fPIC --std=c++11  -std=gnu++17 -Os -c -o pyverilator_wrapper.o /tmp/finn_dev_sids/pyverilator_ipstitched_e2fe9k77/pyverilator_wrapper.cpp\n",
      "ccache g++  -I.  -MMD -I/usr/local/share/verilator/include -I/usr/local/share/verilator/include/vltstd -DVM_COVERAGE=0 -DVM_SC=0 -DVM_TRACE=1 -DVM_TRACE_FST=0 -DVM_TRACE_VCD=1 -faligned-new -fcf-protection=none -Wno-bool-operation -Wno-sign-compare -Wno-uninitialized -Wno-unused-but-set-variable -Wno-unused-parameter -Wno-unused-variable -Wno-shadow     -fPIC --std=c++11  -std=gnu++17 -Os -c -o verilated.o /usr/local/share/verilator/include/verilated.cpp\n",
      "ccache g++  -I.  -MMD -I/usr/local/share/verilator/include -I/usr/local/share/verilator/include/vltstd -DVM_COVERAGE=0 -DVM_SC=0 -DVM_TRACE=1 -DVM_TRACE_FST=0 -DVM_TRACE_VCD=1 -faligned-new -fcf-protection=none -Wno-bool-operation -Wno-sign-compare -Wno-uninitialized -Wno-unused-but-set-variable -Wno-unused-parameter -Wno-unused-variable -Wno-shadow     -fPIC --std=c++11  -std=gnu++17 -Os -c -o verilated_vcd_c.o /usr/local/share/verilator/include/verilated_vcd_c.cpp\n",
      "/usr/bin/perl /usr/local/share/verilator/bin/verilator_includer -DVL_INCLUDE_OPT=include Vfinn_design_wrapper.cpp Vfinn_design_wrapper___024root__DepSet_h47b9eb99__0.cpp Vfinn_design_wrapper__Trace__0.cpp Vfinn_design_wrapper__ConstPool_0.cpp Vfinn_design_wrapper___024root__Slow.cpp Vfinn_design_wrapper___024root__DepSet_h47b9eb99__0__Slow.cpp Vfinn_design_wrapper__Syms.cpp Vfinn_design_wrapper__Trace__0__Slow.cpp > Vfinn_design_wrapper__ALL.cpp\n",
      "ccache g++  -I.  -MMD -I/usr/local/share/verilator/include -I/usr/local/share/verilator/include/vltstd -DVM_COVERAGE=0 -DVM_SC=0 -DVM_TRACE=1 -DVM_TRACE_FST=0 -DVM_TRACE_VCD=1 -faligned-new -fcf-protection=none -Wno-bool-operation -Wno-sign-compare -Wno-uninitialized -Wno-unused-but-set-variable -Wno-unused-parameter -Wno-unused-variable -Wno-shadow     -fPIC --std=c++11  -std=gnu++17 -Os -c -o Vfinn_design_wrapper__ALL.o Vfinn_design_wrapper__ALL.cpp\n",
      "echo \"\" > Vfinn_design_wrapper__ALL.verilator_deplist.tmp\n",
      "Archive ar -rcs Vfinn_design_wrapper__ALL.a Vfinn_design_wrapper__ALL.o\n",
      "g++ -fPIC -shared pyverilator_wrapper.o verilated.o verilated_vcd_c.o Vfinn_design_wrapper__ALL.a      -o Vfinn_design_wrapper\n",
      "rm Vfinn_design_wrapper__ALL.verilator_deplist.tmp\n",
      "make: Leaving directory '/tmp/finn_dev_sids/pyverilator_ipstitched_e2fe9k77'\n"
     ]
    },
    {
     "name": "stderr",
     "output_type": "stream",
     "text": [
      "%Warning-TIMESCALEMOD: /home/sids/workspace/project_find_ml/finn/finn-rtllib/swg/swg_pkg.sv:32:9: Timescale missing on this module as other modules have it (IEEE 1800-2017 3.14.2.3)\n",
      "   32 | package swg;\n",
      "      |         ^~~\n",
      "                       /tmp/finn_dev_sids/vivado_stitch_proj__pfun89u/finn_design_wrapper.v:539:8: ... Location of module with timescale\n",
      "  539 | module MVAU_hls_0_Matrix_Vector_Activate_Batch (\n",
      "      |        ^~~~~~~~~~~~~~~~~~~~~~~~~~~~~~~~~~~~~~~\n",
      "                       ... For warning description see https://verilator.org/warn/TIMESCALEMOD?v=4.224\n",
      "                       ... Use \"/* verilator lint_off TIMESCALEMOD */\" and lint_on around source to disable this message.\n",
      "%Warning-TIMESCALEMOD: /tmp/finn_dev_sids/vivado_stitch_proj__pfun89u/finn_design_wrapper.v:61:8: Timescale missing on this module as other modules have it (IEEE 1800-2017 3.14.2.3)\n",
      "   61 | module finn_design_StreamingFIFO_rtl_2_0 (\n",
      "      |        ^~~~~~~~~~~~~~~~~~~~~~~~~~~~~~~~~\n",
      "                       /tmp/finn_dev_sids/vivado_stitch_proj__pfun89u/finn_design_wrapper.v:539:8: ... Location of module with timescale\n",
      "  539 | module MVAU_hls_0_Matrix_Vector_Activate_Batch (\n",
      "      |        ^~~~~~~~~~~~~~~~~~~~~~~~~~~~~~~~~~~~~~~\n",
      "%Warning-TIMESCALEMOD: /tmp/finn_dev_sids/vivado_stitch_proj__pfun89u/finn_design_wrapper.v:170:8: Timescale missing on this module as other modules have it (IEEE 1800-2017 3.14.2.3)\n",
      "  170 | module finn_design_MVAU_hls_0_0 (\n",
      "      |        ^~~~~~~~~~~~~~~~~~~~~~~~\n",
      "                       /tmp/finn_dev_sids/vivado_stitch_proj__pfun89u/finn_design_wrapper.v:539:8: ... Location of module with timescale\n",
      "  539 | module MVAU_hls_0_Matrix_Vector_Activate_Batch (\n",
      "      |        ^~~~~~~~~~~~~~~~~~~~~~~~~~~~~~~~~~~~~~~\n",
      "%Warning-TIMESCALEMOD: /tmp/finn_dev_sids/vivado_stitch_proj__pfun89u/finn_design_wrapper.v:290:8: Timescale missing on this module as other modules have it (IEEE 1800-2017 3.14.2.3)\n",
      "  290 | module Q_srl (clock, reset, i_d, i_v, i_r, o_d, o_v, o_r, count, maxcount);\n",
      "      |        ^~~~~\n",
      "                       /tmp/finn_dev_sids/vivado_stitch_proj__pfun89u/finn_design_wrapper.v:539:8: ... Location of module with timescale\n",
      "  539 | module MVAU_hls_0_Matrix_Vector_Activate_Batch (\n",
      "      |        ^~~~~~~~~~~~~~~~~~~~~~~~~~~~~~~~~~~~~~~\n",
      "ok 3 nok 0 (tp=3, tn=0, fp=0, fn=0):  30%|████████▍                   | 3/10 [00:03<00:08,  1.14s/it]"
     ]
    },
    {
     "name": "stdout",
     "output_type": "stream",
     "text": [
      "make: Entering directory '/tmp/finn_dev_sids/pyverilator_ipstitched_3eulkj4o'\n",
      "ccache g++  -I.  -MMD -I/usr/local/share/verilator/include -I/usr/local/share/verilator/include/vltstd -DVM_COVERAGE=0 -DVM_SC=0 -DVM_TRACE=1 -DVM_TRACE_FST=0 -DVM_TRACE_VCD=1 -faligned-new -fcf-protection=none -Wno-bool-operation -Wno-sign-compare -Wno-uninitialized -Wno-unused-but-set-variable -Wno-unused-parameter -Wno-unused-variable -Wno-shadow     -fPIC --std=c++11  -std=gnu++17 -Os -c -o pyverilator_wrapper.o /tmp/finn_dev_sids/pyverilator_ipstitched_3eulkj4o/pyverilator_wrapper.cpp\n",
      "ccache g++  -I.  -MMD -I/usr/local/share/verilator/include -I/usr/local/share/verilator/include/vltstd -DVM_COVERAGE=0 -DVM_SC=0 -DVM_TRACE=1 -DVM_TRACE_FST=0 -DVM_TRACE_VCD=1 -faligned-new -fcf-protection=none -Wno-bool-operation -Wno-sign-compare -Wno-uninitialized -Wno-unused-but-set-variable -Wno-unused-parameter -Wno-unused-variable -Wno-shadow     -fPIC --std=c++11  -std=gnu++17 -Os -c -o verilated.o /usr/local/share/verilator/include/verilated.cpp\n",
      "ccache g++  -I.  -MMD -I/usr/local/share/verilator/include -I/usr/local/share/verilator/include/vltstd -DVM_COVERAGE=0 -DVM_SC=0 -DVM_TRACE=1 -DVM_TRACE_FST=0 -DVM_TRACE_VCD=1 -faligned-new -fcf-protection=none -Wno-bool-operation -Wno-sign-compare -Wno-uninitialized -Wno-unused-but-set-variable -Wno-unused-parameter -Wno-unused-variable -Wno-shadow     -fPIC --std=c++11  -std=gnu++17 -Os -c -o verilated_vcd_c.o /usr/local/share/verilator/include/verilated_vcd_c.cpp\n",
      "/usr/bin/perl /usr/local/share/verilator/bin/verilator_includer -DVL_INCLUDE_OPT=include Vfinn_design_wrapper.cpp Vfinn_design_wrapper___024root__DepSet_h47b9eb99__0.cpp Vfinn_design_wrapper__Trace__0.cpp Vfinn_design_wrapper__ConstPool_0.cpp Vfinn_design_wrapper___024root__Slow.cpp Vfinn_design_wrapper___024root__DepSet_h47b9eb99__0__Slow.cpp Vfinn_design_wrapper__Syms.cpp Vfinn_design_wrapper__Trace__0__Slow.cpp > Vfinn_design_wrapper__ALL.cpp\n",
      "ccache g++  -I.  -MMD -I/usr/local/share/verilator/include -I/usr/local/share/verilator/include/vltstd -DVM_COVERAGE=0 -DVM_SC=0 -DVM_TRACE=1 -DVM_TRACE_FST=0 -DVM_TRACE_VCD=1 -faligned-new -fcf-protection=none -Wno-bool-operation -Wno-sign-compare -Wno-uninitialized -Wno-unused-but-set-variable -Wno-unused-parameter -Wno-unused-variable -Wno-shadow     -fPIC --std=c++11  -std=gnu++17 -Os -c -o Vfinn_design_wrapper__ALL.o Vfinn_design_wrapper__ALL.cpp\n",
      "echo \"\" > Vfinn_design_wrapper__ALL.verilator_deplist.tmp\n",
      "Archive ar -rcs Vfinn_design_wrapper__ALL.a Vfinn_design_wrapper__ALL.o\n",
      "g++ -fPIC -shared pyverilator_wrapper.o verilated.o verilated_vcd_c.o Vfinn_design_wrapper__ALL.a      -o Vfinn_design_wrapper\n",
      "rm Vfinn_design_wrapper__ALL.verilator_deplist.tmp\n",
      "make: Leaving directory '/tmp/finn_dev_sids/pyverilator_ipstitched_3eulkj4o'\n"
     ]
    },
    {
     "name": "stderr",
     "output_type": "stream",
     "text": [
      "%Warning-TIMESCALEMOD: /home/sids/workspace/project_find_ml/finn/finn-rtllib/swg/swg_pkg.sv:32:9: Timescale missing on this module as other modules have it (IEEE 1800-2017 3.14.2.3)\n",
      "   32 | package swg;\n",
      "      |         ^~~\n",
      "                       /tmp/finn_dev_sids/vivado_stitch_proj__pfun89u/finn_design_wrapper.v:539:8: ... Location of module with timescale\n",
      "  539 | module MVAU_hls_0_Matrix_Vector_Activate_Batch (\n",
      "      |        ^~~~~~~~~~~~~~~~~~~~~~~~~~~~~~~~~~~~~~~\n",
      "                       ... For warning description see https://verilator.org/warn/TIMESCALEMOD?v=4.224\n",
      "                       ... Use \"/* verilator lint_off TIMESCALEMOD */\" and lint_on around source to disable this message.\n",
      "%Warning-TIMESCALEMOD: /tmp/finn_dev_sids/vivado_stitch_proj__pfun89u/finn_design_wrapper.v:61:8: Timescale missing on this module as other modules have it (IEEE 1800-2017 3.14.2.3)\n",
      "   61 | module finn_design_StreamingFIFO_rtl_2_0 (\n",
      "      |        ^~~~~~~~~~~~~~~~~~~~~~~~~~~~~~~~~\n",
      "                       /tmp/finn_dev_sids/vivado_stitch_proj__pfun89u/finn_design_wrapper.v:539:8: ... Location of module with timescale\n",
      "  539 | module MVAU_hls_0_Matrix_Vector_Activate_Batch (\n",
      "      |        ^~~~~~~~~~~~~~~~~~~~~~~~~~~~~~~~~~~~~~~\n",
      "%Warning-TIMESCALEMOD: /tmp/finn_dev_sids/vivado_stitch_proj__pfun89u/finn_design_wrapper.v:170:8: Timescale missing on this module as other modules have it (IEEE 1800-2017 3.14.2.3)\n",
      "  170 | module finn_design_MVAU_hls_0_0 (\n",
      "      |        ^~~~~~~~~~~~~~~~~~~~~~~~\n",
      "                       /tmp/finn_dev_sids/vivado_stitch_proj__pfun89u/finn_design_wrapper.v:539:8: ... Location of module with timescale\n",
      "  539 | module MVAU_hls_0_Matrix_Vector_Activate_Batch (\n",
      "      |        ^~~~~~~~~~~~~~~~~~~~~~~~~~~~~~~~~~~~~~~\n",
      "%Warning-TIMESCALEMOD: /tmp/finn_dev_sids/vivado_stitch_proj__pfun89u/finn_design_wrapper.v:290:8: Timescale missing on this module as other modules have it (IEEE 1800-2017 3.14.2.3)\n",
      "  290 | module Q_srl (clock, reset, i_d, i_v, i_r, o_d, o_v, o_r, count, maxcount);\n",
      "      |        ^~~~~\n",
      "                       /tmp/finn_dev_sids/vivado_stitch_proj__pfun89u/finn_design_wrapper.v:539:8: ... Location of module with timescale\n",
      "  539 | module MVAU_hls_0_Matrix_Vector_Activate_Batch (\n",
      "      |        ^~~~~~~~~~~~~~~~~~~~~~~~~~~~~~~~~~~~~~~\n",
      "ok 4 nok 0 (tp=3, tn=1, fp=0, fn=0):  40%|███████████▏                | 4/10 [00:04<00:06,  1.14s/it]"
     ]
    },
    {
     "name": "stdout",
     "output_type": "stream",
     "text": [
      "make: Entering directory '/tmp/finn_dev_sids/pyverilator_ipstitched_fw1fca4g'\n",
      "ccache g++  -I.  -MMD -I/usr/local/share/verilator/include -I/usr/local/share/verilator/include/vltstd -DVM_COVERAGE=0 -DVM_SC=0 -DVM_TRACE=1 -DVM_TRACE_FST=0 -DVM_TRACE_VCD=1 -faligned-new -fcf-protection=none -Wno-bool-operation -Wno-sign-compare -Wno-uninitialized -Wno-unused-but-set-variable -Wno-unused-parameter -Wno-unused-variable -Wno-shadow     -fPIC --std=c++11  -std=gnu++17 -Os -c -o pyverilator_wrapper.o /tmp/finn_dev_sids/pyverilator_ipstitched_fw1fca4g/pyverilator_wrapper.cpp\n",
      "ccache g++  -I.  -MMD -I/usr/local/share/verilator/include -I/usr/local/share/verilator/include/vltstd -DVM_COVERAGE=0 -DVM_SC=0 -DVM_TRACE=1 -DVM_TRACE_FST=0 -DVM_TRACE_VCD=1 -faligned-new -fcf-protection=none -Wno-bool-operation -Wno-sign-compare -Wno-uninitialized -Wno-unused-but-set-variable -Wno-unused-parameter -Wno-unused-variable -Wno-shadow     -fPIC --std=c++11  -std=gnu++17 -Os -c -o verilated.o /usr/local/share/verilator/include/verilated.cpp\n",
      "ccache g++  -I.  -MMD -I/usr/local/share/verilator/include -I/usr/local/share/verilator/include/vltstd -DVM_COVERAGE=0 -DVM_SC=0 -DVM_TRACE=1 -DVM_TRACE_FST=0 -DVM_TRACE_VCD=1 -faligned-new -fcf-protection=none -Wno-bool-operation -Wno-sign-compare -Wno-uninitialized -Wno-unused-but-set-variable -Wno-unused-parameter -Wno-unused-variable -Wno-shadow     -fPIC --std=c++11  -std=gnu++17 -Os -c -o verilated_vcd_c.o /usr/local/share/verilator/include/verilated_vcd_c.cpp\n",
      "/usr/bin/perl /usr/local/share/verilator/bin/verilator_includer -DVL_INCLUDE_OPT=include Vfinn_design_wrapper.cpp Vfinn_design_wrapper___024root__DepSet_h47b9eb99__0.cpp Vfinn_design_wrapper__Trace__0.cpp Vfinn_design_wrapper__ConstPool_0.cpp Vfinn_design_wrapper___024root__Slow.cpp Vfinn_design_wrapper___024root__DepSet_h47b9eb99__0__Slow.cpp Vfinn_design_wrapper__Syms.cpp Vfinn_design_wrapper__Trace__0__Slow.cpp > Vfinn_design_wrapper__ALL.cpp\n",
      "ccache g++  -I.  -MMD -I/usr/local/share/verilator/include -I/usr/local/share/verilator/include/vltstd -DVM_COVERAGE=0 -DVM_SC=0 -DVM_TRACE=1 -DVM_TRACE_FST=0 -DVM_TRACE_VCD=1 -faligned-new -fcf-protection=none -Wno-bool-operation -Wno-sign-compare -Wno-uninitialized -Wno-unused-but-set-variable -Wno-unused-parameter -Wno-unused-variable -Wno-shadow     -fPIC --std=c++11  -std=gnu++17 -Os -c -o Vfinn_design_wrapper__ALL.o Vfinn_design_wrapper__ALL.cpp\n",
      "echo \"\" > Vfinn_design_wrapper__ALL.verilator_deplist.tmp\n",
      "Archive ar -rcs Vfinn_design_wrapper__ALL.a Vfinn_design_wrapper__ALL.o\n",
      "g++ -fPIC -shared pyverilator_wrapper.o verilated.o verilated_vcd_c.o Vfinn_design_wrapper__ALL.a      -o Vfinn_design_wrapper\n",
      "rm Vfinn_design_wrapper__ALL.verilator_deplist.tmp\n",
      "make: Leaving directory '/tmp/finn_dev_sids/pyverilator_ipstitched_fw1fca4g'\n"
     ]
    },
    {
     "name": "stderr",
     "output_type": "stream",
     "text": [
      "%Warning-TIMESCALEMOD: /home/sids/workspace/project_find_ml/finn/finn-rtllib/swg/swg_pkg.sv:32:9: Timescale missing on this module as other modules have it (IEEE 1800-2017 3.14.2.3)\n",
      "   32 | package swg;\n",
      "      |         ^~~\n",
      "                       /tmp/finn_dev_sids/vivado_stitch_proj__pfun89u/finn_design_wrapper.v:539:8: ... Location of module with timescale\n",
      "  539 | module MVAU_hls_0_Matrix_Vector_Activate_Batch (\n",
      "      |        ^~~~~~~~~~~~~~~~~~~~~~~~~~~~~~~~~~~~~~~\n",
      "                       ... For warning description see https://verilator.org/warn/TIMESCALEMOD?v=4.224\n",
      "                       ... Use \"/* verilator lint_off TIMESCALEMOD */\" and lint_on around source to disable this message.\n",
      "%Warning-TIMESCALEMOD: /tmp/finn_dev_sids/vivado_stitch_proj__pfun89u/finn_design_wrapper.v:61:8: Timescale missing on this module as other modules have it (IEEE 1800-2017 3.14.2.3)\n",
      "   61 | module finn_design_StreamingFIFO_rtl_2_0 (\n",
      "      |        ^~~~~~~~~~~~~~~~~~~~~~~~~~~~~~~~~\n",
      "                       /tmp/finn_dev_sids/vivado_stitch_proj__pfun89u/finn_design_wrapper.v:539:8: ... Location of module with timescale\n",
      "  539 | module MVAU_hls_0_Matrix_Vector_Activate_Batch (\n",
      "      |        ^~~~~~~~~~~~~~~~~~~~~~~~~~~~~~~~~~~~~~~\n",
      "%Warning-TIMESCALEMOD: /tmp/finn_dev_sids/vivado_stitch_proj__pfun89u/finn_design_wrapper.v:170:8: Timescale missing on this module as other modules have it (IEEE 1800-2017 3.14.2.3)\n",
      "  170 | module finn_design_MVAU_hls_0_0 (\n",
      "      |        ^~~~~~~~~~~~~~~~~~~~~~~~\n",
      "                       /tmp/finn_dev_sids/vivado_stitch_proj__pfun89u/finn_design_wrapper.v:539:8: ... Location of module with timescale\n",
      "  539 | module MVAU_hls_0_Matrix_Vector_Activate_Batch (\n",
      "      |        ^~~~~~~~~~~~~~~~~~~~~~~~~~~~~~~~~~~~~~~\n",
      "%Warning-TIMESCALEMOD: /tmp/finn_dev_sids/vivado_stitch_proj__pfun89u/finn_design_wrapper.v:290:8: Timescale missing on this module as other modules have it (IEEE 1800-2017 3.14.2.3)\n",
      "  290 | module Q_srl (clock, reset, i_d, i_v, i_r, o_d, o_v, o_r, count, maxcount);\n",
      "      |        ^~~~~\n",
      "                       /tmp/finn_dev_sids/vivado_stitch_proj__pfun89u/finn_design_wrapper.v:539:8: ... Location of module with timescale\n",
      "  539 | module MVAU_hls_0_Matrix_Vector_Activate_Batch (\n",
      "      |        ^~~~~~~~~~~~~~~~~~~~~~~~~~~~~~~~~~~~~~~\n",
      "ok 5 nok 0 (tp=4, tn=1, fp=0, fn=0):  50%|██████████████              | 5/10 [00:05<00:05,  1.15s/it]"
     ]
    },
    {
     "name": "stdout",
     "output_type": "stream",
     "text": [
      "make: Entering directory '/tmp/finn_dev_sids/pyverilator_ipstitched_q_vnitcz'\n",
      "ccache g++  -I.  -MMD -I/usr/local/share/verilator/include -I/usr/local/share/verilator/include/vltstd -DVM_COVERAGE=0 -DVM_SC=0 -DVM_TRACE=1 -DVM_TRACE_FST=0 -DVM_TRACE_VCD=1 -faligned-new -fcf-protection=none -Wno-bool-operation -Wno-sign-compare -Wno-uninitialized -Wno-unused-but-set-variable -Wno-unused-parameter -Wno-unused-variable -Wno-shadow     -fPIC --std=c++11  -std=gnu++17 -Os -c -o pyverilator_wrapper.o /tmp/finn_dev_sids/pyverilator_ipstitched_q_vnitcz/pyverilator_wrapper.cpp\n",
      "ccache g++  -I.  -MMD -I/usr/local/share/verilator/include -I/usr/local/share/verilator/include/vltstd -DVM_COVERAGE=0 -DVM_SC=0 -DVM_TRACE=1 -DVM_TRACE_FST=0 -DVM_TRACE_VCD=1 -faligned-new -fcf-protection=none -Wno-bool-operation -Wno-sign-compare -Wno-uninitialized -Wno-unused-but-set-variable -Wno-unused-parameter -Wno-unused-variable -Wno-shadow     -fPIC --std=c++11  -std=gnu++17 -Os -c -o verilated.o /usr/local/share/verilator/include/verilated.cpp\n",
      "ccache g++  -I.  -MMD -I/usr/local/share/verilator/include -I/usr/local/share/verilator/include/vltstd -DVM_COVERAGE=0 -DVM_SC=0 -DVM_TRACE=1 -DVM_TRACE_FST=0 -DVM_TRACE_VCD=1 -faligned-new -fcf-protection=none -Wno-bool-operation -Wno-sign-compare -Wno-uninitialized -Wno-unused-but-set-variable -Wno-unused-parameter -Wno-unused-variable -Wno-shadow     -fPIC --std=c++11  -std=gnu++17 -Os -c -o verilated_vcd_c.o /usr/local/share/verilator/include/verilated_vcd_c.cpp\n",
      "/usr/bin/perl /usr/local/share/verilator/bin/verilator_includer -DVL_INCLUDE_OPT=include Vfinn_design_wrapper.cpp Vfinn_design_wrapper___024root__DepSet_h47b9eb99__0.cpp Vfinn_design_wrapper__Trace__0.cpp Vfinn_design_wrapper__ConstPool_0.cpp Vfinn_design_wrapper___024root__Slow.cpp Vfinn_design_wrapper___024root__DepSet_h47b9eb99__0__Slow.cpp Vfinn_design_wrapper__Syms.cpp Vfinn_design_wrapper__Trace__0__Slow.cpp > Vfinn_design_wrapper__ALL.cpp\n",
      "ccache g++  -I.  -MMD -I/usr/local/share/verilator/include -I/usr/local/share/verilator/include/vltstd -DVM_COVERAGE=0 -DVM_SC=0 -DVM_TRACE=1 -DVM_TRACE_FST=0 -DVM_TRACE_VCD=1 -faligned-new -fcf-protection=none -Wno-bool-operation -Wno-sign-compare -Wno-uninitialized -Wno-unused-but-set-variable -Wno-unused-parameter -Wno-unused-variable -Wno-shadow     -fPIC --std=c++11  -std=gnu++17 -Os -c -o Vfinn_design_wrapper__ALL.o Vfinn_design_wrapper__ALL.cpp\n",
      "echo \"\" > Vfinn_design_wrapper__ALL.verilator_deplist.tmp\n",
      "Archive ar -rcs Vfinn_design_wrapper__ALL.a Vfinn_design_wrapper__ALL.o\n",
      "g++ -fPIC -shared pyverilator_wrapper.o verilated.o verilated_vcd_c.o Vfinn_design_wrapper__ALL.a      -o Vfinn_design_wrapper\n",
      "rm Vfinn_design_wrapper__ALL.verilator_deplist.tmp\n",
      "make: Leaving directory '/tmp/finn_dev_sids/pyverilator_ipstitched_q_vnitcz'\n"
     ]
    },
    {
     "name": "stderr",
     "output_type": "stream",
     "text": [
      "%Warning-TIMESCALEMOD: /home/sids/workspace/project_find_ml/finn/finn-rtllib/swg/swg_pkg.sv:32:9: Timescale missing on this module as other modules have it (IEEE 1800-2017 3.14.2.3)\n",
      "   32 | package swg;\n",
      "      |         ^~~\n",
      "                       /tmp/finn_dev_sids/vivado_stitch_proj__pfun89u/finn_design_wrapper.v:539:8: ... Location of module with timescale\n",
      "  539 | module MVAU_hls_0_Matrix_Vector_Activate_Batch (\n",
      "      |        ^~~~~~~~~~~~~~~~~~~~~~~~~~~~~~~~~~~~~~~\n",
      "                       ... For warning description see https://verilator.org/warn/TIMESCALEMOD?v=4.224\n",
      "                       ... Use \"/* verilator lint_off TIMESCALEMOD */\" and lint_on around source to disable this message.\n",
      "%Warning-TIMESCALEMOD: /tmp/finn_dev_sids/vivado_stitch_proj__pfun89u/finn_design_wrapper.v:61:8: Timescale missing on this module as other modules have it (IEEE 1800-2017 3.14.2.3)\n",
      "   61 | module finn_design_StreamingFIFO_rtl_2_0 (\n",
      "      |        ^~~~~~~~~~~~~~~~~~~~~~~~~~~~~~~~~\n",
      "                       /tmp/finn_dev_sids/vivado_stitch_proj__pfun89u/finn_design_wrapper.v:539:8: ... Location of module with timescale\n",
      "  539 | module MVAU_hls_0_Matrix_Vector_Activate_Batch (\n",
      "      |        ^~~~~~~~~~~~~~~~~~~~~~~~~~~~~~~~~~~~~~~\n",
      "%Warning-TIMESCALEMOD: /tmp/finn_dev_sids/vivado_stitch_proj__pfun89u/finn_design_wrapper.v:170:8: Timescale missing on this module as other modules have it (IEEE 1800-2017 3.14.2.3)\n",
      "  170 | module finn_design_MVAU_hls_0_0 (\n",
      "      |        ^~~~~~~~~~~~~~~~~~~~~~~~\n",
      "                       /tmp/finn_dev_sids/vivado_stitch_proj__pfun89u/finn_design_wrapper.v:539:8: ... Location of module with timescale\n",
      "  539 | module MVAU_hls_0_Matrix_Vector_Activate_Batch (\n",
      "      |        ^~~~~~~~~~~~~~~~~~~~~~~~~~~~~~~~~~~~~~~\n",
      "%Warning-TIMESCALEMOD: /tmp/finn_dev_sids/vivado_stitch_proj__pfun89u/finn_design_wrapper.v:290:8: Timescale missing on this module as other modules have it (IEEE 1800-2017 3.14.2.3)\n",
      "  290 | module Q_srl (clock, reset, i_d, i_v, i_r, o_d, o_v, o_r, count, maxcount);\n",
      "      |        ^~~~~\n",
      "                       /tmp/finn_dev_sids/vivado_stitch_proj__pfun89u/finn_design_wrapper.v:539:8: ... Location of module with timescale\n",
      "  539 | module MVAU_hls_0_Matrix_Vector_Activate_Batch (\n",
      "      |        ^~~~~~~~~~~~~~~~~~~~~~~~~~~~~~~~~~~~~~~\n",
      "ok 6 nok 0 (tp=5, tn=1, fp=0, fn=0):  60%|████████████████▊           | 6/10 [00:06<00:04,  1.16s/it]"
     ]
    },
    {
     "name": "stdout",
     "output_type": "stream",
     "text": [
      "make: Entering directory '/tmp/finn_dev_sids/pyverilator_ipstitched_l3_faa7p'\n",
      "ccache g++  -I.  -MMD -I/usr/local/share/verilator/include -I/usr/local/share/verilator/include/vltstd -DVM_COVERAGE=0 -DVM_SC=0 -DVM_TRACE=1 -DVM_TRACE_FST=0 -DVM_TRACE_VCD=1 -faligned-new -fcf-protection=none -Wno-bool-operation -Wno-sign-compare -Wno-uninitialized -Wno-unused-but-set-variable -Wno-unused-parameter -Wno-unused-variable -Wno-shadow     -fPIC --std=c++11  -std=gnu++17 -Os -c -o pyverilator_wrapper.o /tmp/finn_dev_sids/pyverilator_ipstitched_l3_faa7p/pyverilator_wrapper.cpp\n",
      "ccache g++  -I.  -MMD -I/usr/local/share/verilator/include -I/usr/local/share/verilator/include/vltstd -DVM_COVERAGE=0 -DVM_SC=0 -DVM_TRACE=1 -DVM_TRACE_FST=0 -DVM_TRACE_VCD=1 -faligned-new -fcf-protection=none -Wno-bool-operation -Wno-sign-compare -Wno-uninitialized -Wno-unused-but-set-variable -Wno-unused-parameter -Wno-unused-variable -Wno-shadow     -fPIC --std=c++11  -std=gnu++17 -Os -c -o verilated.o /usr/local/share/verilator/include/verilated.cpp\n",
      "ccache g++  -I.  -MMD -I/usr/local/share/verilator/include -I/usr/local/share/verilator/include/vltstd -DVM_COVERAGE=0 -DVM_SC=0 -DVM_TRACE=1 -DVM_TRACE_FST=0 -DVM_TRACE_VCD=1 -faligned-new -fcf-protection=none -Wno-bool-operation -Wno-sign-compare -Wno-uninitialized -Wno-unused-but-set-variable -Wno-unused-parameter -Wno-unused-variable -Wno-shadow     -fPIC --std=c++11  -std=gnu++17 -Os -c -o verilated_vcd_c.o /usr/local/share/verilator/include/verilated_vcd_c.cpp\n",
      "/usr/bin/perl /usr/local/share/verilator/bin/verilator_includer -DVL_INCLUDE_OPT=include Vfinn_design_wrapper.cpp Vfinn_design_wrapper___024root__DepSet_h47b9eb99__0.cpp Vfinn_design_wrapper__Trace__0.cpp Vfinn_design_wrapper__ConstPool_0.cpp Vfinn_design_wrapper___024root__Slow.cpp Vfinn_design_wrapper___024root__DepSet_h47b9eb99__0__Slow.cpp Vfinn_design_wrapper__Syms.cpp Vfinn_design_wrapper__Trace__0__Slow.cpp > Vfinn_design_wrapper__ALL.cpp\n",
      "ccache g++  -I.  -MMD -I/usr/local/share/verilator/include -I/usr/local/share/verilator/include/vltstd -DVM_COVERAGE=0 -DVM_SC=0 -DVM_TRACE=1 -DVM_TRACE_FST=0 -DVM_TRACE_VCD=1 -faligned-new -fcf-protection=none -Wno-bool-operation -Wno-sign-compare -Wno-uninitialized -Wno-unused-but-set-variable -Wno-unused-parameter -Wno-unused-variable -Wno-shadow     -fPIC --std=c++11  -std=gnu++17 -Os -c -o Vfinn_design_wrapper__ALL.o Vfinn_design_wrapper__ALL.cpp\n",
      "echo \"\" > Vfinn_design_wrapper__ALL.verilator_deplist.tmp\n",
      "Archive ar -rcs Vfinn_design_wrapper__ALL.a Vfinn_design_wrapper__ALL.o\n",
      "g++ -fPIC -shared pyverilator_wrapper.o verilated.o verilated_vcd_c.o Vfinn_design_wrapper__ALL.a      -o Vfinn_design_wrapper\n",
      "rm Vfinn_design_wrapper__ALL.verilator_deplist.tmp\n",
      "make: Leaving directory '/tmp/finn_dev_sids/pyverilator_ipstitched_l3_faa7p'\n"
     ]
    },
    {
     "name": "stderr",
     "output_type": "stream",
     "text": [
      "%Warning-TIMESCALEMOD: /home/sids/workspace/project_find_ml/finn/finn-rtllib/swg/swg_pkg.sv:32:9: Timescale missing on this module as other modules have it (IEEE 1800-2017 3.14.2.3)\n",
      "   32 | package swg;\n",
      "      |         ^~~\n",
      "                       /tmp/finn_dev_sids/vivado_stitch_proj__pfun89u/finn_design_wrapper.v:539:8: ... Location of module with timescale\n",
      "  539 | module MVAU_hls_0_Matrix_Vector_Activate_Batch (\n",
      "      |        ^~~~~~~~~~~~~~~~~~~~~~~~~~~~~~~~~~~~~~~\n",
      "                       ... For warning description see https://verilator.org/warn/TIMESCALEMOD?v=4.224\n",
      "                       ... Use \"/* verilator lint_off TIMESCALEMOD */\" and lint_on around source to disable this message.\n",
      "%Warning-TIMESCALEMOD: /tmp/finn_dev_sids/vivado_stitch_proj__pfun89u/finn_design_wrapper.v:61:8: Timescale missing on this module as other modules have it (IEEE 1800-2017 3.14.2.3)\n",
      "   61 | module finn_design_StreamingFIFO_rtl_2_0 (\n",
      "      |        ^~~~~~~~~~~~~~~~~~~~~~~~~~~~~~~~~\n",
      "                       /tmp/finn_dev_sids/vivado_stitch_proj__pfun89u/finn_design_wrapper.v:539:8: ... Location of module with timescale\n",
      "  539 | module MVAU_hls_0_Matrix_Vector_Activate_Batch (\n",
      "      |        ^~~~~~~~~~~~~~~~~~~~~~~~~~~~~~~~~~~~~~~\n",
      "%Warning-TIMESCALEMOD: /tmp/finn_dev_sids/vivado_stitch_proj__pfun89u/finn_design_wrapper.v:170:8: Timescale missing on this module as other modules have it (IEEE 1800-2017 3.14.2.3)\n",
      "  170 | module finn_design_MVAU_hls_0_0 (\n",
      "      |        ^~~~~~~~~~~~~~~~~~~~~~~~\n",
      "                       /tmp/finn_dev_sids/vivado_stitch_proj__pfun89u/finn_design_wrapper.v:539:8: ... Location of module with timescale\n",
      "  539 | module MVAU_hls_0_Matrix_Vector_Activate_Batch (\n",
      "      |        ^~~~~~~~~~~~~~~~~~~~~~~~~~~~~~~~~~~~~~~\n",
      "%Warning-TIMESCALEMOD: /tmp/finn_dev_sids/vivado_stitch_proj__pfun89u/finn_design_wrapper.v:290:8: Timescale missing on this module as other modules have it (IEEE 1800-2017 3.14.2.3)\n",
      "  290 | module Q_srl (clock, reset, i_d, i_v, i_r, o_d, o_v, o_r, count, maxcount);\n",
      "      |        ^~~~~\n",
      "                       /tmp/finn_dev_sids/vivado_stitch_proj__pfun89u/finn_design_wrapper.v:539:8: ... Location of module with timescale\n",
      "  539 | module MVAU_hls_0_Matrix_Vector_Activate_Batch (\n",
      "      |        ^~~~~~~~~~~~~~~~~~~~~~~~~~~~~~~~~~~~~~~\n",
      "ok 7 nok 0 (tp=6, tn=1, fp=0, fn=0):  70%|███████████████████▌        | 7/10 [00:08<00:03,  1.16s/it]"
     ]
    },
    {
     "name": "stdout",
     "output_type": "stream",
     "text": [
      "make: Entering directory '/tmp/finn_dev_sids/pyverilator_ipstitched_z_504as_'\n",
      "ccache g++  -I.  -MMD -I/usr/local/share/verilator/include -I/usr/local/share/verilator/include/vltstd -DVM_COVERAGE=0 -DVM_SC=0 -DVM_TRACE=1 -DVM_TRACE_FST=0 -DVM_TRACE_VCD=1 -faligned-new -fcf-protection=none -Wno-bool-operation -Wno-sign-compare -Wno-uninitialized -Wno-unused-but-set-variable -Wno-unused-parameter -Wno-unused-variable -Wno-shadow     -fPIC --std=c++11  -std=gnu++17 -Os -c -o pyverilator_wrapper.o /tmp/finn_dev_sids/pyverilator_ipstitched_z_504as_/pyverilator_wrapper.cpp\n",
      "ccache g++  -I.  -MMD -I/usr/local/share/verilator/include -I/usr/local/share/verilator/include/vltstd -DVM_COVERAGE=0 -DVM_SC=0 -DVM_TRACE=1 -DVM_TRACE_FST=0 -DVM_TRACE_VCD=1 -faligned-new -fcf-protection=none -Wno-bool-operation -Wno-sign-compare -Wno-uninitialized -Wno-unused-but-set-variable -Wno-unused-parameter -Wno-unused-variable -Wno-shadow     -fPIC --std=c++11  -std=gnu++17 -Os -c -o verilated.o /usr/local/share/verilator/include/verilated.cpp\n",
      "ccache g++  -I.  -MMD -I/usr/local/share/verilator/include -I/usr/local/share/verilator/include/vltstd -DVM_COVERAGE=0 -DVM_SC=0 -DVM_TRACE=1 -DVM_TRACE_FST=0 -DVM_TRACE_VCD=1 -faligned-new -fcf-protection=none -Wno-bool-operation -Wno-sign-compare -Wno-uninitialized -Wno-unused-but-set-variable -Wno-unused-parameter -Wno-unused-variable -Wno-shadow     -fPIC --std=c++11  -std=gnu++17 -Os -c -o verilated_vcd_c.o /usr/local/share/verilator/include/verilated_vcd_c.cpp\n",
      "/usr/bin/perl /usr/local/share/verilator/bin/verilator_includer -DVL_INCLUDE_OPT=include Vfinn_design_wrapper.cpp Vfinn_design_wrapper___024root__DepSet_h47b9eb99__0.cpp Vfinn_design_wrapper__Trace__0.cpp Vfinn_design_wrapper__ConstPool_0.cpp Vfinn_design_wrapper___024root__Slow.cpp Vfinn_design_wrapper___024root__DepSet_h47b9eb99__0__Slow.cpp Vfinn_design_wrapper__Syms.cpp Vfinn_design_wrapper__Trace__0__Slow.cpp > Vfinn_design_wrapper__ALL.cpp\n",
      "ccache g++  -I.  -MMD -I/usr/local/share/verilator/include -I/usr/local/share/verilator/include/vltstd -DVM_COVERAGE=0 -DVM_SC=0 -DVM_TRACE=1 -DVM_TRACE_FST=0 -DVM_TRACE_VCD=1 -faligned-new -fcf-protection=none -Wno-bool-operation -Wno-sign-compare -Wno-uninitialized -Wno-unused-but-set-variable -Wno-unused-parameter -Wno-unused-variable -Wno-shadow     -fPIC --std=c++11  -std=gnu++17 -Os -c -o Vfinn_design_wrapper__ALL.o Vfinn_design_wrapper__ALL.cpp\n",
      "echo \"\" > Vfinn_design_wrapper__ALL.verilator_deplist.tmp\n",
      "Archive ar -rcs Vfinn_design_wrapper__ALL.a Vfinn_design_wrapper__ALL.o\n",
      "g++ -fPIC -shared pyverilator_wrapper.o verilated.o verilated_vcd_c.o Vfinn_design_wrapper__ALL.a      -o Vfinn_design_wrapper\n",
      "rm Vfinn_design_wrapper__ALL.verilator_deplist.tmp\n",
      "make: Leaving directory '/tmp/finn_dev_sids/pyverilator_ipstitched_z_504as_'\n"
     ]
    },
    {
     "name": "stderr",
     "output_type": "stream",
     "text": [
      "%Warning-TIMESCALEMOD: /home/sids/workspace/project_find_ml/finn/finn-rtllib/swg/swg_pkg.sv:32:9: Timescale missing on this module as other modules have it (IEEE 1800-2017 3.14.2.3)\n",
      "   32 | package swg;\n",
      "      |         ^~~\n",
      "                       /tmp/finn_dev_sids/vivado_stitch_proj__pfun89u/finn_design_wrapper.v:539:8: ... Location of module with timescale\n",
      "  539 | module MVAU_hls_0_Matrix_Vector_Activate_Batch (\n",
      "      |        ^~~~~~~~~~~~~~~~~~~~~~~~~~~~~~~~~~~~~~~\n",
      "                       ... For warning description see https://verilator.org/warn/TIMESCALEMOD?v=4.224\n",
      "                       ... Use \"/* verilator lint_off TIMESCALEMOD */\" and lint_on around source to disable this message.\n",
      "%Warning-TIMESCALEMOD: /tmp/finn_dev_sids/vivado_stitch_proj__pfun89u/finn_design_wrapper.v:61:8: Timescale missing on this module as other modules have it (IEEE 1800-2017 3.14.2.3)\n",
      "   61 | module finn_design_StreamingFIFO_rtl_2_0 (\n",
      "      |        ^~~~~~~~~~~~~~~~~~~~~~~~~~~~~~~~~\n",
      "                       /tmp/finn_dev_sids/vivado_stitch_proj__pfun89u/finn_design_wrapper.v:539:8: ... Location of module with timescale\n",
      "  539 | module MVAU_hls_0_Matrix_Vector_Activate_Batch (\n",
      "      |        ^~~~~~~~~~~~~~~~~~~~~~~~~~~~~~~~~~~~~~~\n",
      "%Warning-TIMESCALEMOD: /tmp/finn_dev_sids/vivado_stitch_proj__pfun89u/finn_design_wrapper.v:170:8: Timescale missing on this module as other modules have it (IEEE 1800-2017 3.14.2.3)\n",
      "  170 | module finn_design_MVAU_hls_0_0 (\n",
      "      |        ^~~~~~~~~~~~~~~~~~~~~~~~\n",
      "                       /tmp/finn_dev_sids/vivado_stitch_proj__pfun89u/finn_design_wrapper.v:539:8: ... Location of module with timescale\n",
      "  539 | module MVAU_hls_0_Matrix_Vector_Activate_Batch (\n",
      "      |        ^~~~~~~~~~~~~~~~~~~~~~~~~~~~~~~~~~~~~~~\n",
      "%Warning-TIMESCALEMOD: /tmp/finn_dev_sids/vivado_stitch_proj__pfun89u/finn_design_wrapper.v:290:8: Timescale missing on this module as other modules have it (IEEE 1800-2017 3.14.2.3)\n",
      "  290 | module Q_srl (clock, reset, i_d, i_v, i_r, o_d, o_v, o_r, count, maxcount);\n",
      "      |        ^~~~~\n",
      "                       /tmp/finn_dev_sids/vivado_stitch_proj__pfun89u/finn_design_wrapper.v:539:8: ... Location of module with timescale\n",
      "  539 | module MVAU_hls_0_Matrix_Vector_Activate_Batch (\n",
      "      |        ^~~~~~~~~~~~~~~~~~~~~~~~~~~~~~~~~~~~~~~\n",
      "ok 8 nok 0 (tp=6, tn=2, fp=0, fn=0):  80%|██████████████████████▍     | 8/10 [00:09<00:02,  1.15s/it]"
     ]
    },
    {
     "name": "stdout",
     "output_type": "stream",
     "text": [
      "make: Entering directory '/tmp/finn_dev_sids/pyverilator_ipstitched_swln399v'\n",
      "ccache g++  -I.  -MMD -I/usr/local/share/verilator/include -I/usr/local/share/verilator/include/vltstd -DVM_COVERAGE=0 -DVM_SC=0 -DVM_TRACE=1 -DVM_TRACE_FST=0 -DVM_TRACE_VCD=1 -faligned-new -fcf-protection=none -Wno-bool-operation -Wno-sign-compare -Wno-uninitialized -Wno-unused-but-set-variable -Wno-unused-parameter -Wno-unused-variable -Wno-shadow     -fPIC --std=c++11  -std=gnu++17 -Os -c -o pyverilator_wrapper.o /tmp/finn_dev_sids/pyverilator_ipstitched_swln399v/pyverilator_wrapper.cpp\n",
      "ccache g++  -I.  -MMD -I/usr/local/share/verilator/include -I/usr/local/share/verilator/include/vltstd -DVM_COVERAGE=0 -DVM_SC=0 -DVM_TRACE=1 -DVM_TRACE_FST=0 -DVM_TRACE_VCD=1 -faligned-new -fcf-protection=none -Wno-bool-operation -Wno-sign-compare -Wno-uninitialized -Wno-unused-but-set-variable -Wno-unused-parameter -Wno-unused-variable -Wno-shadow     -fPIC --std=c++11  -std=gnu++17 -Os -c -o verilated.o /usr/local/share/verilator/include/verilated.cpp\n",
      "ccache g++  -I.  -MMD -I/usr/local/share/verilator/include -I/usr/local/share/verilator/include/vltstd -DVM_COVERAGE=0 -DVM_SC=0 -DVM_TRACE=1 -DVM_TRACE_FST=0 -DVM_TRACE_VCD=1 -faligned-new -fcf-protection=none -Wno-bool-operation -Wno-sign-compare -Wno-uninitialized -Wno-unused-but-set-variable -Wno-unused-parameter -Wno-unused-variable -Wno-shadow     -fPIC --std=c++11  -std=gnu++17 -Os -c -o verilated_vcd_c.o /usr/local/share/verilator/include/verilated_vcd_c.cpp\n",
      "/usr/bin/perl /usr/local/share/verilator/bin/verilator_includer -DVL_INCLUDE_OPT=include Vfinn_design_wrapper.cpp Vfinn_design_wrapper___024root__DepSet_h47b9eb99__0.cpp Vfinn_design_wrapper__Trace__0.cpp Vfinn_design_wrapper__ConstPool_0.cpp Vfinn_design_wrapper___024root__Slow.cpp Vfinn_design_wrapper___024root__DepSet_h47b9eb99__0__Slow.cpp Vfinn_design_wrapper__Syms.cpp Vfinn_design_wrapper__Trace__0__Slow.cpp > Vfinn_design_wrapper__ALL.cpp\n",
      "ccache g++  -I.  -MMD -I/usr/local/share/verilator/include -I/usr/local/share/verilator/include/vltstd -DVM_COVERAGE=0 -DVM_SC=0 -DVM_TRACE=1 -DVM_TRACE_FST=0 -DVM_TRACE_VCD=1 -faligned-new -fcf-protection=none -Wno-bool-operation -Wno-sign-compare -Wno-uninitialized -Wno-unused-but-set-variable -Wno-unused-parameter -Wno-unused-variable -Wno-shadow     -fPIC --std=c++11  -std=gnu++17 -Os -c -o Vfinn_design_wrapper__ALL.o Vfinn_design_wrapper__ALL.cpp\n",
      "echo \"\" > Vfinn_design_wrapper__ALL.verilator_deplist.tmp\n",
      "Archive ar -rcs Vfinn_design_wrapper__ALL.a Vfinn_design_wrapper__ALL.o\n",
      "g++ -fPIC -shared pyverilator_wrapper.o verilated.o verilated_vcd_c.o Vfinn_design_wrapper__ALL.a      -o Vfinn_design_wrapper\n",
      "rm Vfinn_design_wrapper__ALL.verilator_deplist.tmp\n",
      "make: Leaving directory '/tmp/finn_dev_sids/pyverilator_ipstitched_swln399v'\n"
     ]
    },
    {
     "name": "stderr",
     "output_type": "stream",
     "text": [
      "%Warning-TIMESCALEMOD: /home/sids/workspace/project_find_ml/finn/finn-rtllib/swg/swg_pkg.sv:32:9: Timescale missing on this module as other modules have it (IEEE 1800-2017 3.14.2.3)\n",
      "   32 | package swg;\n",
      "      |         ^~~\n",
      "                       /tmp/finn_dev_sids/vivado_stitch_proj__pfun89u/finn_design_wrapper.v:539:8: ... Location of module with timescale\n",
      "  539 | module MVAU_hls_0_Matrix_Vector_Activate_Batch (\n",
      "      |        ^~~~~~~~~~~~~~~~~~~~~~~~~~~~~~~~~~~~~~~\n",
      "                       ... For warning description see https://verilator.org/warn/TIMESCALEMOD?v=4.224\n",
      "                       ... Use \"/* verilator lint_off TIMESCALEMOD */\" and lint_on around source to disable this message.\n",
      "%Warning-TIMESCALEMOD: /tmp/finn_dev_sids/vivado_stitch_proj__pfun89u/finn_design_wrapper.v:61:8: Timescale missing on this module as other modules have it (IEEE 1800-2017 3.14.2.3)\n",
      "   61 | module finn_design_StreamingFIFO_rtl_2_0 (\n",
      "      |        ^~~~~~~~~~~~~~~~~~~~~~~~~~~~~~~~~\n",
      "                       /tmp/finn_dev_sids/vivado_stitch_proj__pfun89u/finn_design_wrapper.v:539:8: ... Location of module with timescale\n",
      "  539 | module MVAU_hls_0_Matrix_Vector_Activate_Batch (\n",
      "      |        ^~~~~~~~~~~~~~~~~~~~~~~~~~~~~~~~~~~~~~~\n",
      "%Warning-TIMESCALEMOD: /tmp/finn_dev_sids/vivado_stitch_proj__pfun89u/finn_design_wrapper.v:170:8: Timescale missing on this module as other modules have it (IEEE 1800-2017 3.14.2.3)\n",
      "  170 | module finn_design_MVAU_hls_0_0 (\n",
      "      |        ^~~~~~~~~~~~~~~~~~~~~~~~\n",
      "                       /tmp/finn_dev_sids/vivado_stitch_proj__pfun89u/finn_design_wrapper.v:539:8: ... Location of module with timescale\n",
      "  539 | module MVAU_hls_0_Matrix_Vector_Activate_Batch (\n",
      "      |        ^~~~~~~~~~~~~~~~~~~~~~~~~~~~~~~~~~~~~~~\n",
      "%Warning-TIMESCALEMOD: /tmp/finn_dev_sids/vivado_stitch_proj__pfun89u/finn_design_wrapper.v:290:8: Timescale missing on this module as other modules have it (IEEE 1800-2017 3.14.2.3)\n",
      "  290 | module Q_srl (clock, reset, i_d, i_v, i_r, o_d, o_v, o_r, count, maxcount);\n",
      "      |        ^~~~~\n",
      "                       /tmp/finn_dev_sids/vivado_stitch_proj__pfun89u/finn_design_wrapper.v:539:8: ... Location of module with timescale\n",
      "  539 | module MVAU_hls_0_Matrix_Vector_Activate_Batch (\n",
      "      |        ^~~~~~~~~~~~~~~~~~~~~~~~~~~~~~~~~~~~~~~\n",
      "ok 9 nok 0 (tp=6, tn=3, fp=0, fn=0):  90%|█████████████████████████▏  | 9/10 [00:10<00:01,  1.15s/it]"
     ]
    },
    {
     "name": "stdout",
     "output_type": "stream",
     "text": [
      "make: Entering directory '/tmp/finn_dev_sids/pyverilator_ipstitched_bk_krk8l'\n",
      "ccache g++  -I.  -MMD -I/usr/local/share/verilator/include -I/usr/local/share/verilator/include/vltstd -DVM_COVERAGE=0 -DVM_SC=0 -DVM_TRACE=1 -DVM_TRACE_FST=0 -DVM_TRACE_VCD=1 -faligned-new -fcf-protection=none -Wno-bool-operation -Wno-sign-compare -Wno-uninitialized -Wno-unused-but-set-variable -Wno-unused-parameter -Wno-unused-variable -Wno-shadow     -fPIC --std=c++11  -std=gnu++17 -Os -c -o pyverilator_wrapper.o /tmp/finn_dev_sids/pyverilator_ipstitched_bk_krk8l/pyverilator_wrapper.cpp\n",
      "ccache g++  -I.  -MMD -I/usr/local/share/verilator/include -I/usr/local/share/verilator/include/vltstd -DVM_COVERAGE=0 -DVM_SC=0 -DVM_TRACE=1 -DVM_TRACE_FST=0 -DVM_TRACE_VCD=1 -faligned-new -fcf-protection=none -Wno-bool-operation -Wno-sign-compare -Wno-uninitialized -Wno-unused-but-set-variable -Wno-unused-parameter -Wno-unused-variable -Wno-shadow     -fPIC --std=c++11  -std=gnu++17 -Os -c -o verilated.o /usr/local/share/verilator/include/verilated.cpp\n",
      "ccache g++  -I.  -MMD -I/usr/local/share/verilator/include -I/usr/local/share/verilator/include/vltstd -DVM_COVERAGE=0 -DVM_SC=0 -DVM_TRACE=1 -DVM_TRACE_FST=0 -DVM_TRACE_VCD=1 -faligned-new -fcf-protection=none -Wno-bool-operation -Wno-sign-compare -Wno-uninitialized -Wno-unused-but-set-variable -Wno-unused-parameter -Wno-unused-variable -Wno-shadow     -fPIC --std=c++11  -std=gnu++17 -Os -c -o verilated_vcd_c.o /usr/local/share/verilator/include/verilated_vcd_c.cpp\n",
      "/usr/bin/perl /usr/local/share/verilator/bin/verilator_includer -DVL_INCLUDE_OPT=include Vfinn_design_wrapper.cpp Vfinn_design_wrapper___024root__DepSet_h47b9eb99__0.cpp Vfinn_design_wrapper__Trace__0.cpp Vfinn_design_wrapper__ConstPool_0.cpp Vfinn_design_wrapper___024root__Slow.cpp Vfinn_design_wrapper___024root__DepSet_h47b9eb99__0__Slow.cpp Vfinn_design_wrapper__Syms.cpp Vfinn_design_wrapper__Trace__0__Slow.cpp > Vfinn_design_wrapper__ALL.cpp\n",
      "ccache g++  -I.  -MMD -I/usr/local/share/verilator/include -I/usr/local/share/verilator/include/vltstd -DVM_COVERAGE=0 -DVM_SC=0 -DVM_TRACE=1 -DVM_TRACE_FST=0 -DVM_TRACE_VCD=1 -faligned-new -fcf-protection=none -Wno-bool-operation -Wno-sign-compare -Wno-uninitialized -Wno-unused-but-set-variable -Wno-unused-parameter -Wno-unused-variable -Wno-shadow     -fPIC --std=c++11  -std=gnu++17 -Os -c -o Vfinn_design_wrapper__ALL.o Vfinn_design_wrapper__ALL.cpp\n",
      "echo \"\" > Vfinn_design_wrapper__ALL.verilator_deplist.tmp\n",
      "Archive ar -rcs Vfinn_design_wrapper__ALL.a Vfinn_design_wrapper__ALL.o\n",
      "g++ -fPIC -shared pyverilator_wrapper.o verilated.o verilated_vcd_c.o Vfinn_design_wrapper__ALL.a      -o Vfinn_design_wrapper\n",
      "rm Vfinn_design_wrapper__ALL.verilator_deplist.tmp\n",
      "make: Leaving directory '/tmp/finn_dev_sids/pyverilator_ipstitched_bk_krk8l'\n"
     ]
    },
    {
     "name": "stderr",
     "output_type": "stream",
     "text": [
      "%Warning-TIMESCALEMOD: /home/sids/workspace/project_find_ml/finn/finn-rtllib/swg/swg_pkg.sv:32:9: Timescale missing on this module as other modules have it (IEEE 1800-2017 3.14.2.3)\n",
      "   32 | package swg;\n",
      "      |         ^~~\n",
      "                       /tmp/finn_dev_sids/vivado_stitch_proj__pfun89u/finn_design_wrapper.v:539:8: ... Location of module with timescale\n",
      "  539 | module MVAU_hls_0_Matrix_Vector_Activate_Batch (\n",
      "      |        ^~~~~~~~~~~~~~~~~~~~~~~~~~~~~~~~~~~~~~~\n",
      "                       ... For warning description see https://verilator.org/warn/TIMESCALEMOD?v=4.224\n",
      "                       ... Use \"/* verilator lint_off TIMESCALEMOD */\" and lint_on around source to disable this message.\n",
      "%Warning-TIMESCALEMOD: /tmp/finn_dev_sids/vivado_stitch_proj__pfun89u/finn_design_wrapper.v:61:8: Timescale missing on this module as other modules have it (IEEE 1800-2017 3.14.2.3)\n",
      "   61 | module finn_design_StreamingFIFO_rtl_2_0 (\n",
      "      |        ^~~~~~~~~~~~~~~~~~~~~~~~~~~~~~~~~\n",
      "                       /tmp/finn_dev_sids/vivado_stitch_proj__pfun89u/finn_design_wrapper.v:539:8: ... Location of module with timescale\n",
      "  539 | module MVAU_hls_0_Matrix_Vector_Activate_Batch (\n",
      "      |        ^~~~~~~~~~~~~~~~~~~~~~~~~~~~~~~~~~~~~~~\n",
      "%Warning-TIMESCALEMOD: /tmp/finn_dev_sids/vivado_stitch_proj__pfun89u/finn_design_wrapper.v:170:8: Timescale missing on this module as other modules have it (IEEE 1800-2017 3.14.2.3)\n",
      "  170 | module finn_design_MVAU_hls_0_0 (\n",
      "      |        ^~~~~~~~~~~~~~~~~~~~~~~~\n",
      "                       /tmp/finn_dev_sids/vivado_stitch_proj__pfun89u/finn_design_wrapper.v:539:8: ... Location of module with timescale\n",
      "  539 | module MVAU_hls_0_Matrix_Vector_Activate_Batch (\n",
      "      |        ^~~~~~~~~~~~~~~~~~~~~~~~~~~~~~~~~~~~~~~\n",
      "%Warning-TIMESCALEMOD: /tmp/finn_dev_sids/vivado_stitch_proj__pfun89u/finn_design_wrapper.v:290:8: Timescale missing on this module as other modules have it (IEEE 1800-2017 3.14.2.3)\n",
      "  290 | module Q_srl (clock, reset, i_d, i_v, i_r, o_d, o_v, o_r, count, maxcount);\n",
      "      |        ^~~~~\n",
      "                       /tmp/finn_dev_sids/vivado_stitch_proj__pfun89u/finn_design_wrapper.v:539:8: ... Location of module with timescale\n",
      "  539 | module MVAU_hls_0_Matrix_Vector_Activate_Batch (\n",
      "      |        ^~~~~~~~~~~~~~~~~~~~~~~~~~~~~~~~~~~~~~~\n",
      "ok 10 nok 0 (tp=6, tn=4, fp=0, fn=0): 100%|██████████████████████████| 10/10 [00:11<00:00,  1.15s/it]"
     ]
    },
    {
     "name": "stdout",
     "output_type": "stream",
     "text": [
      "make: Entering directory '/tmp/finn_dev_sids/pyverilator_ipstitched__qvqa6dq'\n",
      "ccache g++  -I.  -MMD -I/usr/local/share/verilator/include -I/usr/local/share/verilator/include/vltstd -DVM_COVERAGE=0 -DVM_SC=0 -DVM_TRACE=1 -DVM_TRACE_FST=0 -DVM_TRACE_VCD=1 -faligned-new -fcf-protection=none -Wno-bool-operation -Wno-sign-compare -Wno-uninitialized -Wno-unused-but-set-variable -Wno-unused-parameter -Wno-unused-variable -Wno-shadow     -fPIC --std=c++11  -std=gnu++17 -Os -c -o pyverilator_wrapper.o /tmp/finn_dev_sids/pyverilator_ipstitched__qvqa6dq/pyverilator_wrapper.cpp\n",
      "ccache g++  -I.  -MMD -I/usr/local/share/verilator/include -I/usr/local/share/verilator/include/vltstd -DVM_COVERAGE=0 -DVM_SC=0 -DVM_TRACE=1 -DVM_TRACE_FST=0 -DVM_TRACE_VCD=1 -faligned-new -fcf-protection=none -Wno-bool-operation -Wno-sign-compare -Wno-uninitialized -Wno-unused-but-set-variable -Wno-unused-parameter -Wno-unused-variable -Wno-shadow     -fPIC --std=c++11  -std=gnu++17 -Os -c -o verilated.o /usr/local/share/verilator/include/verilated.cpp\n",
      "ccache g++  -I.  -MMD -I/usr/local/share/verilator/include -I/usr/local/share/verilator/include/vltstd -DVM_COVERAGE=0 -DVM_SC=0 -DVM_TRACE=1 -DVM_TRACE_FST=0 -DVM_TRACE_VCD=1 -faligned-new -fcf-protection=none -Wno-bool-operation -Wno-sign-compare -Wno-uninitialized -Wno-unused-but-set-variable -Wno-unused-parameter -Wno-unused-variable -Wno-shadow     -fPIC --std=c++11  -std=gnu++17 -Os -c -o verilated_vcd_c.o /usr/local/share/verilator/include/verilated_vcd_c.cpp\n",
      "/usr/bin/perl /usr/local/share/verilator/bin/verilator_includer -DVL_INCLUDE_OPT=include Vfinn_design_wrapper.cpp Vfinn_design_wrapper___024root__DepSet_h47b9eb99__0.cpp Vfinn_design_wrapper__Trace__0.cpp Vfinn_design_wrapper__ConstPool_0.cpp Vfinn_design_wrapper___024root__Slow.cpp Vfinn_design_wrapper___024root__DepSet_h47b9eb99__0__Slow.cpp Vfinn_design_wrapper__Syms.cpp Vfinn_design_wrapper__Trace__0__Slow.cpp > Vfinn_design_wrapper__ALL.cpp\n",
      "ccache g++  -I.  -MMD -I/usr/local/share/verilator/include -I/usr/local/share/verilator/include/vltstd -DVM_COVERAGE=0 -DVM_SC=0 -DVM_TRACE=1 -DVM_TRACE_FST=0 -DVM_TRACE_VCD=1 -faligned-new -fcf-protection=none -Wno-bool-operation -Wno-sign-compare -Wno-uninitialized -Wno-unused-but-set-variable -Wno-unused-parameter -Wno-unused-variable -Wno-shadow     -fPIC --std=c++11  -std=gnu++17 -Os -c -o Vfinn_design_wrapper__ALL.o Vfinn_design_wrapper__ALL.cpp\n",
      "echo \"\" > Vfinn_design_wrapper__ALL.verilator_deplist.tmp\n",
      "Archive ar -rcs Vfinn_design_wrapper__ALL.a Vfinn_design_wrapper__ALL.o\n",
      "g++ -fPIC -shared pyverilator_wrapper.o verilated.o verilated_vcd_c.o Vfinn_design_wrapper__ALL.a      -o Vfinn_design_wrapper\n",
      "rm Vfinn_design_wrapper__ALL.verilator_deplist.tmp\n",
      "make: Leaving directory '/tmp/finn_dev_sids/pyverilator_ipstitched__qvqa6dq'\n",
      "\u001b[92mStitched IP model output matches with reference Brevitas software model output!\u001b[0m\n"
     ]
    },
    {
     "name": "stderr",
     "output_type": "stream",
     "text": [
      "\n"
     ]
    }
   ],
   "source": [
    "num_verif = 10\n",
    "verif_tensors = test_set.tensors[0][:num_verif]\n",
    "print(f\"Running verification with tensor:\\n{verif_tensors}\")\n",
    "if verify_onnx(parent_model, brevitas_model, verif_tensors, device):\n",
    "    print(f\"{bcolors.OKGREEN}Stitched IP model output matches with reference Brevitas software model output!{bcolors.ENDC}\")\n",
    "else:\n",
    "    print(f\"{bcolors.FAIL}Stitched IP model output differs from reference Brevitas software model output! Something went wrong...{bcolors.ENDC}\")"
   ]
  },
  {
   "cell_type": "markdown",
   "id": "2c746e0e-6557-4e3b-ac46-feb642059138",
   "metadata": {},
   "source": [
    "**Note** that input data is packed in `LSB` to `MSB` order. For example, if our input is an `8 x 1b` vector, and its value is `[1, 1, 1, 1, 0, 0, 0, 0]`, then the `[7:0]` input bus will be driven with the following stimulus: `8'b00001111`. All of this data-packing and unpacking is handled by the PyVerilator backend provided by the FINN framework.\n",
    "\n",
    "And that's it! In the future, we will show how to integrate this FINN model as an inference engine into our larger FPGA-based SmartNIC platform."
   ]
  }
 ],
 "metadata": {
  "kernelspec": {
   "display_name": "Python 3 (ipykernel)",
   "language": "python",
   "name": "python3"
  },
  "language_info": {
   "codemirror_mode": {
    "name": "ipython",
    "version": 3
   },
   "file_extension": ".py",
   "mimetype": "text/x-python",
   "name": "python",
   "nbconvert_exporter": "python",
   "pygments_lexer": "ipython3",
   "version": "3.10.12"
  }
 },
 "nbformat": 4,
 "nbformat_minor": 5
}

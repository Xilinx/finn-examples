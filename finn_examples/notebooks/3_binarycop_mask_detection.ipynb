{
 "cells": [
  {
   "cell_type": "code",
   "execution_count": null,
   "metadata": {},
   "outputs": [],
   "source": [
    "from finn_examples import models\n",
    "import os\n",
    "from PIL import Image\n",
    "import numpy as np\n",
    "import cv2"
   ]
  },
  {
   "cell_type": "markdown",
   "metadata": {},
   "source": [
    "# Initialize the Accelerator"
   ]
  },
  {
   "cell_type": "code",
   "execution_count": null,
   "metadata": {},
   "outputs": [],
   "source": [
    "# Note: the face mask detection example is only available on Pynq-Z1 at the moment\n",
    "accel = models.bincop_cnv()"
   ]
  },
  {
   "cell_type": "code",
   "execution_count": null,
   "metadata": {},
   "outputs": [],
   "source": [
    "class_dict = {0: \"Correctly Masked\", 1: \"Incorrectly Worn\", 2: \"No Mask\"}\n",
    "\n",
    "print(\"Expected input shape and datatype: %s %s\" % (str(accel.ishape_normal()), str(accel.idt())))\n",
    "print(\"Expected output shape and datatype: %s %s\" % (str(accel.oshape_normal()), str(accel.odt())))"
   ]
  },
  {
   "cell_type": "markdown",
   "metadata": {},
   "source": [
    "# Load Mask Examples"
   ]
  },
  {
   "cell_type": "code",
   "execution_count": null,
   "metadata": {},
   "outputs": [],
   "source": [
    "mask_examples_dir = \"/tmp/mask_examples\"\n",
    "if not os.path.exists(mask_examples_dir):\n",
    "    os.makedirs(mask_examples_dir)\n",
    "    \n",
    "for i in range(6):\n",
    "    if \"{}.jpg\".format(i+1) not in os.listdir(mask_examples_dir):\n",
    "        os.system(\"wget -P \" + mask_examples_dir + \" https://github.com/NaelF/BinaryCoP/raw/master/notebook/pictures/{}.jpg\".format(i+1))"
   ]
  },
  {
   "cell_type": "markdown",
   "metadata": {},
   "source": [
    "# Run Inference"
   ]
  },
  {
   "cell_type": "code",
   "execution_count": null,
   "metadata": {},
   "outputs": [],
   "source": [
    "def resize(img):\n",
    "    img = np.array(img)\n",
    "    if img.shape[0] != 72 or img.shape[1] != 72:\n",
    "        resized_img = cv2.resize(img,(72,72))\n",
    "        return (resized_img)  \n",
    "    else: return img"
   ]
  },
  {
   "cell_type": "code",
   "execution_count": null,
   "metadata": {},
   "outputs": [],
   "source": [
    "im = Image.open(mask_examples_dir + '/1.jpg')\n",
    "im = resize(im)\n",
    "accel_in = im.reshape(accel.ishape_normal())\n",
    "im = Image.fromarray(im, 'RGB')\n",
    "display(im)\n",
    "accel_out = accel.execute(accel_in)\n",
    "print(\"Returned class is: \" + class_dict[int(accel_out)])\n",
    "\n",
    "im = Image.open(mask_examples_dir + '/2.jpg')\n",
    "im = resize(im)\n",
    "accel_in = im.reshape(accel.ishape_normal())\n",
    "im = Image.fromarray(im, 'RGB')\n",
    "display(im)\n",
    "accel_out = accel.execute(accel_in)\n",
    "print(\"Returned class is: \" + class_dict[int(accel_out)])\n",
    "\n",
    "im = Image.open(mask_examples_dir + '/3.jpg')\n",
    "im = resize(im)\n",
    "accel_in = im.reshape(accel.ishape_normal())\n",
    "im = Image.fromarray(im, 'RGB')\n",
    "display(im)\n",
    "accel_out = accel.execute(accel_in)\n",
    "print(\"Returned class is: \" + class_dict[int(accel_out)])\n",
    "\n",
    "im = Image.open(mask_examples_dir + '/4.jpg')\n",
    "im = resize(im)\n",
    "accel_in = im.reshape(accel.ishape_normal())\n",
    "im = Image.fromarray(im, 'RGB')\n",
    "display(im)\n",
    "accel_out = accel.execute(accel_in)\n",
    "print(\"Returned class is: \" + class_dict[int(accel_out)])\n",
    "\n",
    "im = Image.open(mask_examples_dir + '/5.jpg')\n",
    "im = resize(im)\n",
    "accel_in = im.reshape(accel.ishape_normal())\n",
    "im = Image.fromarray(im, 'RGB')\n",
    "display(im)\n",
    "accel_out = accel.execute(accel_in)\n",
    "print(\"Returned class is: \" + class_dict[int(accel_out)])"
   ]
  },
  {
   "cell_type": "markdown",
   "metadata": {},
   "source": [
    "# Run Webcam"
   ]
  },
  {
   "cell_type": "code",
   "execution_count": null,
   "metadata": {},
   "outputs": [],
   "source": [
    "from IPython.display import clear_output\n",
    "\n",
    "def producer_live(cap):\n",
    "    # grab most recent frame in buffer\n",
    "    for i in range(4):\n",
    "        cap.grab()\n",
    "    \n",
    "    flag, frame = cap.read()\n",
    "\n",
    "    if flag:\n",
    "        frame = webcam_rev(frame)\n",
    "        img = Image.fromarray(frame, 'RGB')\n",
    "        frame = frame.reshape(accel.ishape_normal())\n",
    "        return frame, img\n",
    "\n",
    "    else:\n",
    "        print (\"frame is not ready\")\n",
    "        cv2.waitKey(1)\n",
    "        \n",
    "def consumer_live(accel, frame):\n",
    "    class_out = accel.execute(frame)\n",
    "    print(\"Class name: {}\".format(class_dict[int(class_out)]))\n",
    "\n",
    "def webcam_rev(img):\n",
    "    img = np.array(img)\n",
    "    img_cropped = img[:, 20:140, :]\n",
    "    img_resized = cv2.resize(img_cropped,(72,72))\n",
    "    img_rev = cv2.cvtColor(img_resized, cv2.COLOR_BGR2RGB)\n",
    "    return img_rev"
   ]
  },
  {
   "cell_type": "code",
   "execution_count": null,
   "metadata": {},
   "outputs": [],
   "source": [
    "cap = cv2.VideoCapture(0)\n",
    "while not cap.isOpened():\n",
    "    cap = cv2.VideoCapture(0)\n",
    "    cv2.waitKey(1)\n",
    "    print (\"Wait for the device\")\n",
    "\n",
    "# set small capture resolution for faster processing\n",
    "cap.set(cv2.CAP_PROP_FRAME_WIDTH, 160)\n",
    "cap.set(cv2.CAP_PROP_FRAME_HEIGHT, 120)"
   ]
  },
  {
   "cell_type": "markdown",
   "metadata": {},
   "source": [
    "# Classify Webcam Input\n",
    "* Make sure you are in a well-lit environment\n",
    "* Blue-colored masks are classified best (will be improved in next update)\n",
    "* Position your face in the center of the frame, close to camera (see examples)\n",
    "\n",
    "This notebook is a basic proof-of-concept. Model was trained on simple blue-mask augmentation of Flickr-Faces-HQ (FFHQ). For better results, more mask-types can be supported (e.g. https://github.com/aqeelanwar/MaskTheFace)"
   ]
  },
  {
   "cell_type": "code",
   "execution_count": null,
   "metadata": {},
   "outputs": [],
   "source": [
    "clear_output()\n",
    "frame, img = producer_live(cap)\n",
    "consumer_live(accel, frame)\n",
    "img"
   ]
  },
  {
   "cell_type": "code",
   "execution_count": null,
   "metadata": {},
   "outputs": [],
   "source": [
    "clear_output()\n",
    "frame, img = producer_live(cap)\n",
    "consumer_live(accel, frame)\n",
    "img"
   ]
  },
  {
   "cell_type": "code",
   "execution_count": null,
   "metadata": {},
   "outputs": [],
   "source": [
    "clear_output()\n",
    "frame, img = producer_live(cap)\n",
    "consumer_live(accel, frame)\n",
    "img"
   ]
  },
  {
   "cell_type": "markdown",
   "metadata": {},
   "source": [
    "# Release Webcam"
   ]
  },
  {
   "cell_type": "code",
   "execution_count": null,
   "metadata": {},
   "outputs": [],
   "source": [
    "cap.release()"
   ]
  }
 ],
 "metadata": {
  "kernelspec": {
   "display_name": "Python 3",
   "language": "python",
   "name": "python3"
  },
  "language_info": {
   "codemirror_mode": {
    "name": "ipython",
    "version": 3
   },
   "file_extension": ".py",
   "mimetype": "text/x-python",
   "name": "python",
   "nbconvert_exporter": "python",
   "pygments_lexer": "ipython3",
   "version": "3.7.3"
  }
 },
 "nbformat": 4,
 "nbformat_minor": 1
}

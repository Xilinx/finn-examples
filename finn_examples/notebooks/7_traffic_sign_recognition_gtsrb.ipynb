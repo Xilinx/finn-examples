{
 "cells": [
  {
   "cell_type": "markdown",
   "metadata": {},
   "source": [
    "# Initialize the accelerator"
   ]
  },
  {
   "cell_type": "code",
   "execution_count": 1,
   "metadata": {},
   "outputs": [
    {
     "data": {
      "application/javascript": [
       "\n",
       "try {\n",
       "require(['notebook/js/codecell'], function(codecell) {\n",
       "  codecell.CodeCell.options_default.highlight_modes[\n",
       "      'magic_text/x-csrc'] = {'reg':[/^%%microblaze/]};\n",
       "  Jupyter.notebook.events.one('kernel_ready.Kernel', function(){\n",
       "      Jupyter.notebook.get_cells().map(function(cell){\n",
       "          if (cell.cell_type == 'code'){ cell.auto_highlight(); } }) ;\n",
       "  });\n",
       "});\n",
       "} catch (e) {};\n"
      ]
     },
     "metadata": {},
     "output_type": "display_data"
    },
    {
     "data": {
      "application/javascript": [
       "\n",
       "try {\n",
       "require(['notebook/js/codecell'], function(codecell) {\n",
       "  codecell.CodeCell.options_default.highlight_modes[\n",
       "      'magic_text/x-csrc'] = {'reg':[/^%%pybind11/]};\n",
       "  Jupyter.notebook.events.one('kernel_ready.Kernel', function(){\n",
       "      Jupyter.notebook.get_cells().map(function(cell){\n",
       "          if (cell.cell_type == 'code'){ cell.auto_highlight(); } }) ;\n",
       "  });\n",
       "});\n",
       "} catch (e) {};\n"
      ]
     },
     "metadata": {},
     "output_type": "display_data"
    }
   ],
   "source": [
    "from finn_examples import models\n",
    "accel = models.cnv_w1a1_gtsrb()"
   ]
  },
  {
   "cell_type": "code",
   "execution_count": 2,
   "metadata": {},
   "outputs": [
    {
     "name": "stdout",
     "output_type": "stream",
     "text": [
      "Expected input shape and datatype: (1, 32, 32, 3) UINT8\n",
      "Expected output shape and datatype: (1, 44) INT16\n"
     ]
    }
   ],
   "source": [
    "print(\"Expected input shape and datatype: %s %s\" % (str(accel.ishape_normal), str(accel.idt)))\n",
    "print(\"Expected output shape and datatype: %s %s\" % (str(accel.oshape_normal), str(accel.odt)))"
   ]
  },
  {
   "cell_type": "markdown",
   "metadata": {},
   "source": [
    "# Load the GTSRB dataset"
   ]
  },
  {
   "cell_type": "code",
   "execution_count": 3,
   "metadata": {},
   "outputs": [],
   "source": [
    "from os import path\n",
    "import urllib\n",
    "import numpy as np\n",
    "dataset_local = \"/tmp/traffic-signs-data.zip\"\n",
    "if not path.isfile(dataset_local):\n",
    "    dataset_url = \"https://d17h27t6h515a5.cloudfront.net/topher/2017/February/5898cd6f_traffic-signs-data/traffic-signs-data.zip\"\n",
    "    urllib.request.urlretrieve(dataset_url, dataset_local)\n",
    "    ! unzip {dataset_local} -d /tmp\n",
    "\n",
    "dataset_dict = np.load(\"/tmp/test.p\")\n",
    "testx = dataset_dict[\"features\"]\n",
    "testy = dataset_dict[\"labels\"]"
   ]
  },
  {
   "cell_type": "code",
   "execution_count": 4,
   "metadata": {},
   "outputs": [],
   "source": [
    "gtsrb_classes = [\n",
    "    '20 Km/h', \n",
    "    '30 Km/h', \n",
    "    '50 Km/h', \n",
    "    '60 Km/h', \n",
    "    '70 Km/h', \n",
    "    '80 Km/h', \n",
    "    'End 80 Km/h', \n",
    "    '100 Km/h', \n",
    "    '120 Km/h', \n",
    "    'No overtaking', \n",
    "    'No overtaking for large trucks', \n",
    "    'Priority crossroad', \n",
    "    'Priority road', \n",
    "    'Give way', \n",
    "    'Stop', \n",
    "    'No vehicles', \n",
    "    'Prohibited for vehicles with a permitted gross weight over 3.5t including their trailers, and for tractors except passenger cars and buses', \n",
    "    'No entry for vehicular traffic', \n",
    "    'Danger Ahead', \n",
    "    'Bend to left', \n",
    "    'Bend to right', \n",
    "    'Double bend (first to left)', \n",
    "    'Uneven road', \n",
    "    'Road slippery when wet or dirty', \n",
    "    'Road narrows (right)', \n",
    "    'Road works', \n",
    "    'Traffic signals', \n",
    "    'Pedestrians in road ahead', \n",
    "    'Children crossing ahead', \n",
    "    'Bicycles prohibited', \n",
    "    'Risk of snow or ice', \n",
    "    'Wild animals', \n",
    "    'End of all speed and overtaking restrictions', \n",
    "    'Turn right ahead', \n",
    "    'Turn left ahead', \n",
    "    'Ahead only', \n",
    "    'Ahead or right only', \n",
    "    'Ahead or left only', \n",
    "    'Pass by on right', \n",
    "    'Pass by on left', \n",
    "    'Roundabout', \n",
    "    'End of no-overtaking zone', \n",
    "    'End of no-overtaking zone for vehicles with a permitted gross weight over 3.5t including their trailers, and for tractors except passenger cars and buses', \n",
    "    'Not a roadsign'\n",
    "]"
   ]
  },
  {
   "cell_type": "code",
   "execution_count": 10,
   "metadata": {},
   "outputs": [
    {
     "name": "stdout",
     "output_type": "stream",
     "text": [
      "Dataset shape is (12630, 32, 32, 3)\n"
     ]
    }
   ],
   "source": [
    "print(\"Dataset shape is \" + str(testx.shape))"
   ]
  },
  {
   "cell_type": "markdown",
   "metadata": {},
   "source": [
    "# Classify a single image"
   ]
  },
  {
   "cell_type": "code",
   "execution_count": 5,
   "metadata": {},
   "outputs": [],
   "source": [
    "test_single_x = testx[0]\n",
    "test_single_y = testy[0]"
   ]
  },
  {
   "cell_type": "code",
   "execution_count": 6,
   "metadata": {},
   "outputs": [
    {
     "data": {
      "image/png": "[encoded data removed]",
      "text/plain": [
       "<matplotlib.figure.Figure at 0xb3a670d0>"
      ]
     },
     "metadata": {},
     "output_type": "display_data"
    }
   ],
   "source": [
    "%matplotlib inline\n",
    "from matplotlib import pyplot as plt\n",
    "\n",
    "plt.imshow(test_single_x)\n",
    "plt.show()"
   ]
  },
  {
   "cell_type": "code",
   "execution_count": 7,
   "metadata": {},
   "outputs": [
    {
     "name": "stdout",
     "output_type": "stream",
     "text": [
      "Expected class is:\n",
      "Prohibited for vehicles with a permitted gross weight over 3.5t including their trailers, and for tractors except passenger cars and buses\n"
     ]
    }
   ],
   "source": [
    "print(\"Expected class is:\\n%s\" % (gtsrb_classes[test_single_y]))"
   ]
  },
  {
   "cell_type": "code",
   "execution_count": 8,
   "metadata": {},
   "outputs": [
    {
     "name": "stdout",
     "output_type": "stream",
     "text": [
      "Accelerator result is:\n",
      "Prohibited for vehicles with a permitted gross weight over 3.5t including their trailers, and for tractors except passenger cars and buses\n"
     ]
    }
   ],
   "source": [
    "accel_y = accel.execute(test_single_x.reshape(accel.ishape_normal))\n",
    "print(\"Accelerator result is:\\n%s\" % (gtsrb_classes[np.argmax(accel_y)]))"
   ]
  },
  {
   "cell_type": "markdown",
   "metadata": {},
   "source": [
    "# Validate accuracy on GTSRB test set"
   ]
  },
  {
   "cell_type": "code",
   "execution_count": 20,
   "metadata": {},
   "outputs": [
    {
     "name": "stdout",
     "output_type": "stream",
     "text": [
      "Ready to run validation, test images tensor has shape (30, 421, 3072)\n",
      "Accelerator buffer shapes are (421, 1, 32, 32, 3, 1) for input, (421, 11, 8) for output\n"
     ]
    }
   ],
   "source": [
    "batch_size = 421\n",
    "total = testx.shape[0]\n",
    "accel.batch_size = batch_size\n",
    "n_batches = int(total / batch_size)\n",
    "\n",
    "batch_imgs = testx.reshape(n_batches, batch_size, -1)\n",
    "batch_labels = testy.reshape(n_batches, batch_size)\n",
    "obuf_normal = np.empty_like(accel.obuf_packed_device)\n",
    "print(\"Ready to run validation, test images tensor has shape %s\" % str(batch_imgs.shape))\n",
    "print(\"Accelerator buffer shapes are %s for input, %s for output\" % (str(accel.ishape_packed), str(accel.oshape_packed)) )"
   ]
  },
  {
   "cell_type": "code",
   "execution_count": 24,
   "metadata": {},
   "outputs": [
    {
     "name": "stdout",
     "output_type": "stream",
     "text": [
      "batch 0 / 30 : total OK 401 NOK 20\n",
      "batch 1 / 30 : total OK 798 NOK 44\n",
      "batch 2 / 30 : total OK 1203 NOK 60\n",
      "batch 3 / 30 : total OK 1605 NOK 79\n",
      "batch 4 / 30 : total OK 2003 NOK 102\n",
      "batch 5 / 30 : total OK 2404 NOK 122\n",
      "batch 6 / 30 : total OK 2806 NOK 141\n",
      "batch 7 / 30 : total OK 3210 NOK 158\n",
      "batch 8 / 30 : total OK 3609 NOK 180\n",
      "batch 9 / 30 : total OK 4009 NOK 201\n",
      "batch 10 / 30 : total OK 4404 NOK 227\n",
      "batch 11 / 30 : total OK 4805 NOK 247\n",
      "batch 12 / 30 : total OK 5205 NOK 268\n",
      "batch 13 / 30 : total OK 5605 NOK 289\n",
      "batch 14 / 30 : total OK 5996 NOK 319\n",
      "batch 15 / 30 : total OK 6403 NOK 333\n",
      "batch 16 / 30 : total OK 6796 NOK 361\n",
      "batch 17 / 30 : total OK 7200 NOK 378\n",
      "batch 18 / 30 : total OK 7596 NOK 403\n",
      "batch 19 / 30 : total OK 7994 NOK 426\n",
      "batch 20 / 30 : total OK 8397 NOK 444\n",
      "batch 21 / 30 : total OK 8804 NOK 458\n",
      "batch 22 / 30 : total OK 9213 NOK 470\n",
      "batch 23 / 30 : total OK 9616 NOK 488\n",
      "batch 24 / 30 : total OK 10010 NOK 515\n",
      "batch 25 / 30 : total OK 10414 NOK 532\n",
      "batch 26 / 30 : total OK 10817 NOK 550\n",
      "batch 27 / 30 : total OK 11218 NOK 570\n",
      "batch 28 / 30 : total OK 11619 NOK 590\n",
      "batch 29 / 30 : total OK 12021 NOK 609\n"
     ]
    }
   ],
   "source": [
    "ok = 0\n",
    "nok = 0\n",
    "for i in range(n_batches):\n",
    "    ibuf_normal = batch_imgs[i].reshape(accel.ibuf_packed_device.shape)\n",
    "    exp = batch_labels[i]\n",
    "    # to avoid the slower software implementation during data unpacking,\n",
    "    # we make manual calls to buffer copies and execute_on_buffers\n",
    "    # all this could have been replaced with accel.execute() otherwise\n",
    "    accel.copy_input_data_to_device(ibuf_normal)\n",
    "    accel.execute_on_buffers()\n",
    "    obuf_normal = np.empty_like(accel.obuf_packed_device)\n",
    "    accel.copy_output_data_from_device(obuf_normal)\n",
    "    # this line provides fast unpacking using numpy primitives\n",
    "    # instead of using FINN's unpack functions\n",
    "    quick_out = obuf_normal.view(np.uint16).reshape(accel.batch_size, 44)\n",
    "    obuf_argmax = np.argmax(quick_out, axis=-1)\n",
    "    ok_batch = (obuf_argmax == exp).sum()\n",
    "    nok_batch = (batch_size-ok_batch)\n",
    "    ok += ok_batch\n",
    "    nok += nok_batch\n",
    "    \n",
    "    print(\"batch %d / %d : total OK %d NOK %d\" % (i+1, n_batches, ok, nok))"
   ]
  },
  {
   "cell_type": "code",
   "execution_count": 25,
   "metadata": {},
   "outputs": [
    {
     "name": "stdout",
     "output_type": "stream",
     "text": [
      "Final accuracy: 95.17814726840855%\n"
     ]
    }
   ],
   "source": [
    "acc = 100.0 * ok / (total)\n",
    "print(\"Final accuracy: {}%\".format(acc))"
   ]
  },
  {
   "cell_type": "markdown",
   "metadata": {},
   "source": [
    "# Run built-in benchmarks"
   ]
  },
  {
   "cell_type": "code",
   "execution_count": 26,
   "metadata": {},
   "outputs": [
    {
     "data": {
      "text/plain": [
       "{'DRAM_in_bandwidth[MB/s]': 8.867975173609915,\n",
       " 'DRAM_out_bandwidth[MB/s]': 0.25403053882736737,\n",
       " 'batch_size': 100,\n",
       " 'copy_input_data_to_device[ms]': 2.284526824951172,\n",
       " 'copy_output_data_from_device[ms]': 0.20766258239746094,\n",
       " 'fclk[mhz]': 100.0,\n",
       " 'fold_input[ms]': 0.14352798461914062,\n",
       " 'pack_input[ms]': 0.10251998901367188,\n",
       " 'runtime[ms]': 34.64150428771973,\n",
       " 'throughput[images/s]': 2886.7106684928112,\n",
       " 'unfold_output[ms]': 0.0762939453125,\n",
       " 'unpack_output[ms]': 1504.5325756072998}"
      ]
     },
     "execution_count": 26,
     "metadata": {},
     "output_type": "execute_result"
    }
   ],
   "source": [
    "accel.batch_size = 100\n",
    "accel.throughput_test()"
   ]
  },
  {
   "cell_type": "code",
   "execution_count": null,
   "metadata": {},
   "outputs": [],
   "source": []
  }
 ],
 "metadata": {
  "kernelspec": {
   "display_name": "Python 3",
   "language": "python",
   "name": "python3"
  },
  "language_info": {
   "codemirror_mode": {
    "name": "ipython",
    "version": 3
   },
   "file_extension": ".py",
   "mimetype": "text/x-python",
   "name": "python",
   "nbconvert_exporter": "python",
   "pygments_lexer": "ipython3",
   "version": "3.6.5"
  }
 },
 "nbformat": 4,
 "nbformat_minor": 2
}

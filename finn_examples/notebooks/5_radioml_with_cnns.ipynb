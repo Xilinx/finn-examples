{
 "cells": [
  {
   "cell_type": "markdown",
   "metadata": {},
   "source": [
    "# Initialize the accelerator"
   ]
  },
  {
   "attachments": {},
   "cell_type": "markdown",
   "metadata": {},
   "source": [
    "### Remember to install the following dependencies:"
   ]
  },
  {
   "cell_type": "code",
   "execution_count": 1,
   "metadata": {},
   "outputs": [],
   "source": [
    "! apt-get install libhdf5-dev -y\n",
    "! pip3 install versioned-hdf5"
   ]
  },
  {
   "cell_type": "code",
   "execution_count": 2,
   "metadata": {},
   "outputs": [
    {
     "data": {
      "application/javascript": "\ntry {\nrequire(['notebook/js/codecell'], function(codecell) {\n  codecell.CodeCell.options_default.highlight_modes[\n      'magic_text/x-csrc'] = {'reg':[/^%%microblaze/]};\n  Jupyter.notebook.events.one('kernel_ready.Kernel', function(){\n      Jupyter.notebook.get_cells().map(function(cell){\n          if (cell.cell_type == 'code'){ cell.auto_highlight(); } }) ;\n  });\n});\n} catch (e) {};\n"
     },
     "metadata": {},
     "output_type": "display_data"
    },
    {
     "data": {
      "application/javascript": "\ntry {\nrequire(['notebook/js/codecell'], function(codecell) {\n  codecell.CodeCell.options_default.highlight_modes[\n      'magic_text/x-csrc'] = {'reg':[/^%%pybind11/]};\n  Jupyter.notebook.events.one('kernel_ready.Kernel', function(){\n      Jupyter.notebook.get_cells().map(function(cell){\n          if (cell.cell_type == 'code'){ cell.auto_highlight(); } }) ;\n  });\n});\n} catch (e) {};\n"
     },
     "metadata": {},
     "output_type": "display_data"
    },
    {
     "name": "stdout",
     "output_type": "stream",
     "text": [
      "['_radioml_io_shape_dict', 'vgg10_w4a4_radioml']\n"
     ]
    }
   ],
   "source": [
    "from finn_examples import models\n",
    "print(list(filter(lambda x: \"radioml\" in x, dir(models))))"
   ]
  },
  {
   "cell_type": "code",
   "execution_count": 3,
   "metadata": {},
   "outputs": [],
   "source": [
    "# Note: the RadioML example is only available on the ZCU104 at the moment\n",
    "accel = models.vgg10_w4a4_radioml()"
   ]
  },
  {
   "cell_type": "code",
   "execution_count": 4,
   "metadata": {},
   "outputs": [
    {
     "name": "stdout",
     "output_type": "stream",
     "text": [
      "Expected input shape and datatype: (1, 1024, 1, 2) DataType.INT8\n",
      "Expected output shape and datatype: (1, 1) DataType.UINT8\n"
     ]
    }
   ],
   "source": [
    "print(\"Expected input shape and datatype: %s %s\" % (str(accel.ishape_normal()), str(accel.idt())))\n",
    "print(\"Expected output shape and datatype: %s %s\" % (str(accel.oshape_normal()), str(accel.odt())))"
   ]
  },
  {
   "cell_type": "markdown",
   "metadata": {},
   "source": [
    "# Load RadioML 2018 dataset"
   ]
  },
  {
   "attachments": {},
   "cell_type": "markdown",
   "metadata": {},
   "source": [
    "Please note that you will have to manually download the RadioML 2018 dataset and set the `dataset_dir` variable to point to its path."
   ]
  },
  {
   "cell_type": "code",
   "execution_count": 5,
   "metadata": {},
   "outputs": [
    {
     "name": "stdout",
     "output_type": "stream",
     "text": [
      "/home/xilinx/datasets/radioml_2018\n"
     ]
    }
   ],
   "source": [
    "import numpy as np\n",
    "import math\n",
    "import pickle\n",
    "import os\n",
    "import h5py\n",
    "\n",
    "dataset_dir = \"/home/xilinx/datasets/radioml_2018\"\n",
    "print(dataset_dir)"
   ]
  },
  {
   "cell_type": "code",
   "execution_count": 6,
   "metadata": {},
   "outputs": [],
   "source": [
    "h5_file = h5py.File(dataset_dir + \"/GOLD_XYZ_OSC.0001_1024.hdf5\",'r')\n",
    "data_h5 = h5_file['X']\n",
    "label_mod = np.argmax(h5_file['Y'], axis=1) # comes in one-hot encoding\n",
    "label_snr = h5_file['Z'][:,0]\n",
    "\n",
    "# assemble list of test set indices\n",
    "# do not pre-load large dataset into memory\n",
    "np.random.seed(2018)\n",
    "test_indices = []\n",
    "for mod in range(0, 24): #all modulations (0 to 23)\n",
    "    for snr_idx in range(0, 26): #all SNRs (0 to 25 = -20dB to +30dB)\n",
    "        start_idx = 26*4096*mod + 4096*snr_idx\n",
    "        indices_subclass = list(range(start_idx, start_idx+4096))\n",
    "\n",
    "        split = int(np.ceil(0.1 * 4096)) #90%/10% split\n",
    "        np.random.shuffle(indices_subclass)\n",
    "        train_indices_subclass, val_indices_subclass = indices_subclass[split:], indices_subclass[:split]\n",
    "\n",
    "        if snr_idx >= 25: #select which SNRs to test on\n",
    "            test_indices.extend(val_indices_subclass)\n",
    "\n",
    "test_indices = sorted(test_indices)\n",
    "\n",
    "# note: labels given in the \"classes.txt\" file are not in the correct order (https://github.com/radioML/dataset/issues/25)\n",
    "mod_classes = ['OOK','4ASK','8ASK','BPSK','QPSK','8PSK','16PSK','32PSK',\n",
    "'16APSK','32APSK','64APSK','128APSK','16QAM','32QAM','64QAM','128QAM','256QAM',\n",
    "'AM-SSB-WC','AM-SSB-SC','AM-DSB-WC','AM-DSB-SC','FM','GMSK','OQPSK']\n",
    "snr_classes = np.arange(-20., 32., 2) # -20dB to 30dB"
   ]
  },
  {
   "cell_type": "code",
   "execution_count": 7,
   "metadata": {},
   "outputs": [
    {
     "name": "stdout",
     "output_type": "stream",
     "text": [
      "(2555904, 1024, 2)\n",
      "(2555904,)\n",
      "(2555904,)\n",
      "9840\n"
     ]
    }
   ],
   "source": [
    "print(data_h5.shape)\n",
    "print(label_mod.shape)\n",
    "print(label_snr.shape)\n",
    "print(len(test_indices))"
   ]
  },
  {
   "cell_type": "markdown",
   "metadata": {},
   "source": [
    "# Inspect a single frame"
   ]
  },
  {
   "cell_type": "code",
   "execution_count": 8,
   "metadata": {},
   "outputs": [
    {
     "name": "stdout",
     "output_type": "stream",
     "text": [
      "Modulation: 16QAM, SNR: 30.0 dB\n"
     ]
    }
   ],
   "source": [
    "%matplotlib inline\n",
    "from matplotlib import pyplot as plt\n",
    "\n",
    "# Inspect a frame\n",
    "mod = 12 # 0 to 23\n",
    "snr_idx = 25 # 0 to 25 = -20dB to +30dB\n",
    "sample = 123 # 0 to 4095\n",
    "#-----------------------#\n",
    "idx = 26*4096*mod + 4096*snr_idx + sample\n",
    "data, mod, snr = data_h5[idx], label_mod[idx], label_snr[idx]\n",
    "plt.figure()\n",
    "plt.plot(data)\n",
    "print(\"Modulation: %s, SNR: %.1f dB\" % (mod_classes[mod], snr))"
   ]
  },
  {
   "cell_type": "markdown",
   "metadata": {},
   "source": [
    "# Input quantization\n",
    "Quantize input data on-the-fly in software before feeding it to the accelerator. Use the uniform quantization range on which the model was trained."
   ]
  },
  {
   "cell_type": "code",
   "execution_count": 9,
   "metadata": {},
   "outputs": [],
   "source": [
    "def quantize(data):\n",
    "    quant_min = -2.0\n",
    "    quant_max = 2.0\n",
    "    quant_range = quant_max - quant_min\n",
    "    data_quant = (data - quant_min) / quant_range\n",
    "    data_quant = np.round(data_quant * 256) - 128\n",
    "    data_quant = np.clip(data_quant, -128, 127)\n",
    "    data_quant = data_quant.astype(np.int8)\n",
    "    return data_quant"
   ]
  },
  {
   "cell_type": "markdown",
   "metadata": {},
   "source": [
    "# Classify a single frame"
   ]
  },
  {
   "cell_type": "code",
   "execution_count": 10,
   "metadata": {},
   "outputs": [
    {
     "name": "stdout",
     "output_type": "stream",
     "text": [
      "Input buffer shape is (1, 1024, 1, 2) and datatype is int8\n"
     ]
    }
   ],
   "source": [
    "accel_in = quantize(data).reshape(accel.ishape_normal())\n",
    "print(\"Input buffer shape is %s and datatype is %s\" % (str(accel_in.shape), str(accel_in.dtype)))"
   ]
  },
  {
   "cell_type": "code",
   "execution_count": 11,
   "metadata": {},
   "outputs": [],
   "source": [
    "accel_out = accel.execute(accel_in)"
   ]
  },
  {
   "cell_type": "code",
   "execution_count": 12,
   "metadata": {},
   "outputs": [
    {
     "name": "stdout",
     "output_type": "stream",
     "text": [
      "Result: [[12.]]\n",
      "Top-1 class predicted by the accelerator: 16QAM\n"
     ]
    }
   ],
   "source": [
    "print(\"Result: \" + str(accel_out))\n",
    "print(\"Top-1 class predicted by the accelerator: \" + mod_classes[int(accel_out)])"
   ]
  },
  {
   "cell_type": "code",
   "execution_count": 13,
   "metadata": {},
   "outputs": [
    {
     "name": "stdout",
     "output_type": "stream",
     "text": [
      "1000 loops, best of 3: 822 µs per loop\n"
     ]
    }
   ],
   "source": [
    "%%timeit\n",
    "accel_out = accel.execute(accel_in)"
   ]
  },
  {
   "cell_type": "markdown",
   "metadata": {},
   "source": [
    "# Validate accuracy on entire test set"
   ]
  },
  {
   "cell_type": "code",
   "execution_count": 14,
   "metadata": {},
   "outputs": [
    {
     "name": "stdout",
     "output_type": "stream",
     "text": [
      "Accelerator buffer shapes are (1024, 1024, 1, 1, 2) for input, (1024, 1, 1) for output\n",
      "Accelerator buffer shapes are (1024, 1024, 1, 1, 2) for input, (1024, 1, 1) for output\n",
      "Accelerator buffer shapes are (1024, 1024, 1, 2) for input, (1024, 1) for output\n"
     ]
    }
   ],
   "source": [
    "batch_size = 1024\n",
    "accel.batch_size = batch_size\n",
    "print(\"Accelerator buffer shapes are %s for input, %s for output\" % (str(accel.ishape_packed()), str(accel.oshape_packed())))\n",
    "print(\"Accelerator buffer shapes are %s for input, %s for output\" % (str(accel.ishape_folded()), str(accel.oshape_folded())))\n",
    "print(\"Accelerator buffer shapes are %s for input, %s for output\" % (str(accel.ishape_normal()), str(accel.oshape_normal())))"
   ]
  },
  {
   "cell_type": "code",
   "execution_count": 15,
   "metadata": {
    "scrolled": true
   },
   "outputs": [
    {
     "name": "stdout",
     "output_type": "stream",
     "text": [
      "batch 0 : total OK 1018 NOK 6\n",
      "batch 1 : total OK 2041 NOK 7\n",
      "batch 2 : total OK 3059 NOK 13\n",
      "batch 3 : total OK 4082 NOK 14\n",
      "batch 4 : total OK 4948 NOK 172\n",
      "batch 5 : total OK 5682 NOK 462\n",
      "batch 6 : total OK 6314 NOK 854\n",
      "batch 7 : total OK 7039 NOK 1153\n",
      "batch 8 : total OK 8024 NOK 1192\n",
      "batch 9 : total OK 8648 NOK 1192\n"
     ]
    }
   ],
   "source": [
    "ok = 0\n",
    "nok = 0\n",
    "total = len(test_indices)\n",
    "for i_batch in range(math.ceil(total/batch_size)):\n",
    "    i_frame = i_batch*batch_size\n",
    "    if i_frame+batch_size > total:\n",
    "        batch_size = total - i_frame\n",
    "        accel.batch_size = batch_size\n",
    "    batch_indices = test_indices[i_frame:i_frame+batch_size]\n",
    "    data, mod, snr = data_h5[batch_indices], label_mod[batch_indices], label_snr[batch_indices]\n",
    "\n",
    "    ibuf = quantize(data).reshape(accel.ishape_normal())\n",
    "    obuf = accel.execute(ibuf)\n",
    "\n",
    "    pred = obuf.reshape(batch_size).astype(int)\n",
    "\n",
    "    ok += np.equal(pred, mod).sum().item()\n",
    "    nok += np.not_equal(pred, mod).sum().item()\n",
    "    \n",
    "    print(\"batch %d : total OK %d NOK %d\" % (i_batch, ok, nok))"
   ]
  },
  {
   "cell_type": "code",
   "execution_count": 16,
   "metadata": {},
   "outputs": [
    {
     "name": "stdout",
     "output_type": "stream",
     "text": [
      "Overall top-1 accuracy: 87.88617886178862%\n"
     ]
    }
   ],
   "source": [
    "acc = 100.0 * ok / (total)\n",
    "print(\"Overall top-1 accuracy: {}%\".format(acc))"
   ]
  },
  {
   "cell_type": "markdown",
   "metadata": {},
   "source": [
    "## More benchmarking"
   ]
  },
  {
   "cell_type": "code",
   "execution_count": 17,
   "metadata": {},
   "outputs": [
    {
     "data": {
      "text/plain": [
       "{'DRAM_in_bandwidth[Mb/s]': 473.18806940706867,\n",
       " 'DRAM_out_bandwidth[Mb/s]': 0.23104886201517025,\n",
       " 'batch_size': 1024,\n",
       " 'copy_input_data_to_device[ms]': 2.1643638610839844,\n",
       " 'copy_output_data_from_device[ms]': 0.08821487426757812,\n",
       " 'fclk[mhz]': 249.9975,\n",
       " 'fold_input[ms]': 0.1418590545654297,\n",
       " 'pack_input[ms]': 0.110626220703125,\n",
       " 'runtime[ms]': 4.431962966918945,\n",
       " 'throughput[images/s]': 231048.86201517025,\n",
       " 'unfold_output[ms]': 0.08678436279296875,\n",
       " 'unpack_output[ms]': 0.6284713745117188}"
      ]
     },
     "execution_count": 17,
     "metadata": {},
     "output_type": "execute_result"
    }
   ],
   "source": [
    "accel.batch_size = 1024\n",
    "accel.throughput_test()"
   ]
  },
  {
   "cell_type": "code",
   "execution_count": null,
   "metadata": {},
   "outputs": [],
   "source": []
  }
 ],
 "metadata": {
  "kernelspec": {
   "display_name": "Python 3",
   "language": "python",
   "name": "python3"
  },
  "language_info": {
   "codemirror_mode": {
    "name": "ipython",
    "version": 3
   },
   "file_extension": ".py",
   "mimetype": "text/x-python",
   "name": "python",
   "nbconvert_exporter": "python",
   "pygments_lexer": "ipython3",
   "version": "3.6.5"
  }
 },
 "nbformat": 4,
 "nbformat_minor": 2
}

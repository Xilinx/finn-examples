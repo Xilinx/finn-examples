{
 "cells": [
  {
   "cell_type": "markdown",
   "metadata": {},
   "source": [
    "# Initialize the accelerator"
   ]
  },
  {
   "cell_type": "code",
   "execution_count": null,
   "metadata": {},
   "outputs": [],
   "source": [
    "from finn_examples import models\n",
    "print(list(filter(lambda x: \"imagenet\" in x, dir(models))))"
   ]
  },
  {
   "cell_type": "code",
   "execution_count": null,
   "metadata": {},
   "outputs": [
    {
     "data": {
      "application/javascript": [
       "\n",
       "try {\n",
       "require(['notebook/js/codecell'], function(codecell) {\n",
       "  codecell.CodeCell.options_default.highlight_modes[\n",
       "      'magic_text/x-csrc'] = {'reg':[/^%%microblaze/]};\n",
       "  Jupyter.notebook.events.one('kernel_ready.Kernel', function(){\n",
       "      Jupyter.notebook.get_cells().map(function(cell){\n",
       "          if (cell.cell_type == 'code'){ cell.auto_highlight(); } }) ;\n",
       "  });\n",
       "});\n",
       "} catch (e) {};\n"
      ]
     },
     "metadata": {},
     "output_type": "display_data"
    },
    {
     "data": {
      "application/javascript": [
       "\n",
       "try {\n",
       "require(['notebook/js/codecell'], function(codecell) {\n",
       "  codecell.CodeCell.options_default.highlight_modes[\n",
       "      'magic_text/x-csrc'] = {'reg':[/^%%pybind11/]};\n",
       "  Jupyter.notebook.events.one('kernel_ready.Kernel', function(){\n",
       "      Jupyter.notebook.get_cells().map(function(cell){\n",
       "          if (cell.cell_type == 'code'){ cell.auto_highlight(); } }) ;\n",
       "  });\n",
       "});\n",
       "} catch (e) {};\n"
      ]
     },
     "metadata": {},
     "output_type": "display_data"
    }
   ],
   "source": [
    "#mobilenetv1_w4a4 is available on U250 and ZCU104\n",
    "accel = models.mobilenetv1_w4a4_imagenet()\n",
    "#resnet50_w1a2 is available on U250 only\n",
    "#accel = models.resnet50_w1a2_imagenet()\n",
    "#some systems with custom builds might require a manual platform setting:\n",
    "#accel = models.mobilenetv1_w4a4_imagenet(\"ZCU102\")"
   ]
  },
  {
   "cell_type": "code",
   "execution_count": null,
   "metadata": {},
   "outputs": [],
   "source": [
    "print(\"Expected input shape and datatype: %s %s\" % (str(accel.ishape_normal()), str(accel.idt())))\n",
    "print(\"Expected output shape and datatype: %s %s\" % (str(accel.oshape_normal()), str(accel.odt())))"
   ]
  },
  {
   "cell_type": "markdown",
   "metadata": {},
   "source": [
    "# Prepare loading of ImageNet validation dataset"
   ]
  },
  {
   "cell_type": "code",
   "execution_count": null,
   "metadata": {},
   "outputs": [],
   "source": [
    "import numpy as np\n",
    "from PIL import Image\n",
    "from dataset_loading import FileQueue, ImgQueue\n",
    "import os\n",
    "\n",
    "# 2 ways to provide the data:\n",
    "# without a label file: expect images in 1000 sorted subfolders\n",
    "# with a label file: expect images directly in val directory\n",
    "val_dir = os.environ[\"IMAGENET_VAL_PATH\"]\n",
    "label_file = None\n",
    "print(val_dir)"
   ]
  },
  {
   "cell_type": "code",
   "execution_count": null,
   "metadata": {},
   "outputs": [],
   "source": [
    "def img_resize(img, size):\n",
    "    w, h = img.size\n",
    "    if (w <= h and w == size) or (h <= w and h == size):\n",
    "        return img\n",
    "    if w < h:\n",
    "        ow = size\n",
    "        oh = int(size * h / w)\n",
    "        return img.resize((ow, oh), Image.BILINEAR)\n",
    "    else:\n",
    "        oh = size\n",
    "        ow = int(size * w / h)\n",
    "        return img.resize((ow, oh), Image.BILINEAR)\n",
    "\n",
    "def img_center_crop(img, size):\n",
    "    crop_height, crop_width = (size, size)\n",
    "    image_width, image_height = img.size\n",
    "    crop_top = int(round((image_height - crop_height) / 2.))\n",
    "    crop_left = int(round((image_width - crop_width) / 2.))\n",
    "    return img.crop((crop_left, crop_top, crop_left + crop_width, crop_top + crop_height))\n",
    "\n",
    "def pre_process(img_np):\n",
    "    img = Image.fromarray(img_np.astype(np.uint8))\n",
    "    img = img_resize(img, 256)\n",
    "    img = img_center_crop(img, 224)\n",
    "    img = np.array(img, dtype=np.uint8)\n",
    "    return img\n",
    "\n",
    "def setup_dataloader(val_path, label_file_path = None, batch_size=100, n_images = 50000):\n",
    "    if label_file_path is None:\n",
    "        val_folders = [ f.name for f in os.scandir(val_path) if f.is_dir() ]\n",
    "        val_folders = sorted(val_folders)\n",
    "        assert len(val_folders) == 1000, \"Expected 1000 subfolders in ILSVRC2012 val\"\n",
    "        files = []\n",
    "        labels = []\n",
    "        for idx, folder in enumerate(val_folders):\n",
    "            current_files = sorted(os.listdir(os.path.join(val_path, folder)))\n",
    "            current_files = [os.path.join(folder, file) for file in current_files]\n",
    "            files.extend(current_files)\n",
    "            labels.extend([idx]*len(current_files))\n",
    "        files = files[:n_images]\n",
    "    else:\n",
    "        files = ['ILSVRC2012_val_{:08d}.JPEG'.format(i) for i in range(1,n_images+1)]\n",
    "        labels = np.loadtxt(label_file_path, dtype=int, usecols=1)\n",
    "\n",
    "    file_queue = FileQueue()\n",
    "    file_queue.load_epochs(list(zip(files,labels)), shuffle=False)\n",
    "    img_queue = ImgQueue(maxsize=batch_size)\n",
    "    img_queue.start_loaders(file_queue, num_threads=4, img_dir=val_path, transform=pre_process)\n",
    "    return img_queue"
   ]
  },
  {
   "cell_type": "markdown",
   "metadata": {},
   "source": [
    "# Classify a single image"
   ]
  },
  {
   "cell_type": "code",
   "execution_count": null,
   "metadata": {},
   "outputs": [],
   "source": [
    "%matplotlib inline\n",
    "from matplotlib import pyplot as plt\n",
    "\n",
    "img_queue = setup_dataloader(val_dir, label_file, 1, 1)\n",
    "\n",
    "test_single_x, test_single_y = img_queue.get()\n",
    "\n",
    "plt.imshow(test_single_x)\n",
    "plt.show()"
   ]
  },
  {
   "cell_type": "code",
   "execution_count": null,
   "metadata": {},
   "outputs": [],
   "source": [
    "test_single_y"
   ]
  },
  {
   "cell_type": "code",
   "execution_count": null,
   "metadata": {},
   "outputs": [],
   "source": [
    "accel_in = test_single_x.reshape(accel.ishape_normal())\n",
    "print(\"Input buffer shape is %s and datatype is %s\" % (str(accel_in.shape), str(accel_in.dtype)))"
   ]
  },
  {
   "cell_type": "code",
   "execution_count": null,
   "metadata": {},
   "outputs": [],
   "source": [
    "accel_out = accel.execute(accel_in)"
   ]
  },
  {
   "cell_type": "code",
   "execution_count": null,
   "metadata": {},
   "outputs": [],
   "source": [
    "print(\"Top-5 classes predicted by the accelerator: \" + str(accel_out))"
   ]
  },
  {
   "cell_type": "code",
   "execution_count": null,
   "metadata": {},
   "outputs": [],
   "source": [
    "%%timeit\n",
    "accel_out = accel.execute(accel_in)"
   ]
  },
  {
   "cell_type": "markdown",
   "metadata": {},
   "source": [
    "# Validate accuracy on entire ImageNet validation set"
   ]
  },
  {
   "cell_type": "code",
   "execution_count": null,
   "metadata": {},
   "outputs": [],
   "source": [
    "batch_size = 100\n",
    "accel.batch_size = batch_size\n",
    "print(\"Accelerator buffer shapes are %s for input, %s for output\" % (str(accel.ishape_packed()), str(accel.oshape_packed())))"
   ]
  },
  {
   "cell_type": "code",
   "execution_count": null,
   "metadata": {},
   "outputs": [],
   "source": [
    "img_queue = setup_dataloader(val_dir, label_file, batch_size)\n",
    "\n",
    "ok = 0\n",
    "nok = 0\n",
    "i = 0\n",
    "while not img_queue.last_batch:\n",
    "    imgs, lbls = img_queue.get_batch(batch_size, timeout=None)\n",
    "    imgs = np.array(imgs)\n",
    "    exp = np.array(lbls)\n",
    "    \n",
    "    ibuf_normal = imgs.reshape(accel.ishape_normal())\n",
    "    obuf_normal = accel.execute(ibuf_normal)\n",
    "    obuf_normal = obuf_normal.reshape(batch_size, -1)[:,0]\n",
    "    ret = np.bincount(obuf_normal.flatten() == exp.flatten())\n",
    "    nok += ret[0]\n",
    "    ok += ret[1]\n",
    "    i += 1\n",
    "    print(\"batch %d : total OK %d NOK %d\" % (i, ok, nok))"
   ]
  },
  {
   "cell_type": "code",
   "execution_count": null,
   "metadata": {},
   "outputs": [],
   "source": [
    "total = 50000\n",
    "acc = 100.0 * ok / (total)\n",
    "print(\"Final top-1 accuracy: {}%\".format(acc))"
   ]
  },
  {
   "cell_type": "markdown",
   "metadata": {},
   "source": [
    "## More benchmarking"
   ]
  },
  {
   "cell_type": "code",
   "execution_count": null,
   "metadata": {},
   "outputs": [],
   "source": [
    "accel.throughput_test()"
   ]
  }
 ],
 "metadata": {
  "kernelspec": {
   "display_name": "Python 3 (ipykernel)",
   "language": "python",
   "name": "python3"
  },
  "language_info": {
   "codemirror_mode": {
    "name": "ipython",
    "version": 3
   },
   "file_extension": ".py",
   "mimetype": "text/x-python",
   "name": "python",
   "nbconvert_exporter": "python",
   "pygments_lexer": "ipython3",
   "version": "3.10.9"
  }
 },
 "nbformat": 4,
 "nbformat_minor": 2
}

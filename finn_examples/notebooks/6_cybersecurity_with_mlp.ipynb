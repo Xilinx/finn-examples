{
 "cells": [
  {
   "cell_type": "markdown",
   "id": "adf1903e",
   "metadata": {},
   "source": [
    "# Initialize the accelerator"
   ]
  },
  {
   "cell_type": "code",
   "execution_count": 1,
   "id": "5f012d0d",
   "metadata": {},
   "outputs": [
    {
     "name": "stdout",
     "output_type": "stream",
     "text": [
      "['_unsw_nb15_mlp_io_shape_dict', 'mlp_w2a2_unsw_nb15']\n"
     ]
    }
   ],
   "source": [
    "from finn_examples import models\n",
    "print(list(filter(lambda x: \"unsw_nb15\" in x, dir(models))))"
   ]
  },
  {
   "cell_type": "markdown",
   "id": "1e8446d7",
   "metadata": {},
   "source": [
    "Specify a batch size & create the FINN overlay. Note that the batch size must divide 82000."
   ]
  },
  {
   "cell_type": "code",
   "execution_count": 2,
   "id": "ac7e32e0",
   "metadata": {},
   "outputs": [
    {
     "data": {
      "application/javascript": "\ntry {\nrequire(['notebook/js/codecell'], function(codecell) {\n  codecell.CodeCell.options_default.highlight_modes[\n      'magic_text/x-csrc'] = {'reg':[/^%%microblaze/]};\n  Jupyter.notebook.events.one('kernel_ready.Kernel', function(){\n      Jupyter.notebook.get_cells().map(function(cell){\n          if (cell.cell_type == 'code'){ cell.auto_highlight(); } }) ;\n  });\n});\n} catch (e) {};\n"
     },
     "metadata": {},
     "output_type": "display_data"
    },
    {
     "data": {
      "application/javascript": "\ntry {\nrequire(['notebook/js/codecell'], function(codecell) {\n  codecell.CodeCell.options_default.highlight_modes[\n      'magic_text/x-csrc'] = {'reg':[/^%%pybind11/]};\n  Jupyter.notebook.events.one('kernel_ready.Kernel', function(){\n      Jupyter.notebook.get_cells().map(function(cell){\n          if (cell.cell_type == 'code'){ cell.auto_highlight(); } }) ;\n  });\n});\n} catch (e) {};\n"
     },
     "metadata": {},
     "output_type": "display_data"
    }
   ],
   "source": [
    "batch_size = 1\n",
    "accel = models.mlp_w2a2_unsw_nb15()"
   ]
  },
  {
   "cell_type": "code",
   "execution_count": 3,
   "id": "912943c1",
   "metadata": {},
   "outputs": [
    {
     "name": "stdout",
     "output_type": "stream",
     "text": [
      "Expected input shape and datatype: (1, 600) BIPOLAR\n",
      "Expected output shape and datatype: (1, 1) BIPOLAR\n"
     ]
    }
   ],
   "source": [
    "print(\"Expected input shape and datatype: %s %s\" % (str(accel.ishape_normal()), str(accel.idt())))\n",
    "print(\"Expected output shape and datatype: %s %s\" % (str(accel.oshape_normal()), str(accel.odt())))"
   ]
  },
  {
   "cell_type": "markdown",
   "id": "d47e899e",
   "metadata": {},
   "source": [
    "# Load the binarized UNSW-NB15 test dataset"
   ]
  },
  {
   "cell_type": "code",
   "execution_count": 12,
   "id": "69ba8798",
   "metadata": {},
   "outputs": [
    {
     "name": "stdout",
     "output_type": "stream",
     "text": [
      "File ‘unsw_nb15_binarized.npz’ already there; not retrieving.\r\n"
     ]
    }
   ],
   "source": [
    "! wget -nc -O unsw_nb15_binarized.npz https://zenodo.org/record/4519767/files/unsw_nb15_binarized.npz?download=1"
   ]
  },
  {
   "cell_type": "markdown",
   "id": "ebc2ae98",
   "metadata": {},
   "source": [
    "Note that the generated design expects inputs of length 600. As explained in the [end-to-end notebook](https://github.com/Xilinx/finn/blob/main/notebooks/end2end_example/cybersecurity/1-train-mlp-with-brevitas.ipynb) in the FINN repository, padding the input data from length 593 to 600 enables SIMD parallelization for the first layer.\n",
    "Thus, we'll have to pad our dataset before feeding it to the accelerator."
   ]
  },
  {
   "cell_type": "code",
   "execution_count": 13,
   "id": "6631508a",
   "metadata": {},
   "outputs": [],
   "source": [
    "import numpy as np\n",
    "\n",
    "def make_unsw_nb15_test_batches(bsize):\n",
    "    unsw_nb15_data = np.load(\"unsw_nb15_binarized.npz\")[\"test\"][:82000]\n",
    "    test_imgs = unsw_nb15_data[:, :-1]\n",
    "    test_imgs = np.pad(test_imgs, [(0, 0), [0, 7]], mode=\"constant\")\n",
    "    test_labels = unsw_nb15_data[:, -1]\n",
    "    n_batches = int(test_imgs.shape[0] / bsize)\n",
    "    test_imgs = test_imgs.reshape(n_batches, bsize, -1)\n",
    "    test_labels = test_labels.reshape(n_batches, bsize)\n",
    "    return (test_imgs, test_labels)"
   ]
  },
  {
   "cell_type": "markdown",
   "id": "69dbb1d3",
   "metadata": {},
   "source": [
    "# Classify a single attack"
   ]
  },
  {
   "cell_type": "code",
   "execution_count": 14,
   "id": "a92e1b11",
   "metadata": {},
   "outputs": [],
   "source": [
    "(test_imgs, test_labels) = make_unsw_nb15_test_batches(bsize=1)"
   ]
  },
  {
   "cell_type": "code",
   "execution_count": 39,
   "id": "48f308f9",
   "metadata": {},
   "outputs": [
    {
     "name": "stdout",
     "output_type": "stream",
     "text": [
      "Expected label is 0 (normal data)\n"
     ]
    }
   ],
   "source": [
    "test_single = test_imgs[-1]\n",
    "test_single_label = test_labels[-1].astype(np.float32)\n",
    "\n",
    "print(\"Expected label is: %d (%s data)\" % (test_single_label, (lambda x: \"normal\" if x==0 else \"abnormal\")(test_single_label)))"
   ]
  },
  {
   "cell_type": "code",
   "execution_count": 40,
   "id": "fc6e39fa",
   "metadata": {},
   "outputs": [],
   "source": [
    "# Note: the accelerator expects binary input data presented in bipolar form (i.e. {-1, 1})\n",
    "accel_in = 2 * test_single - 1\n",
    "accel_out = accel.execute(accel_in)\n",
    "# To convert back to the original label (i.e. {0, 1}), we'll have to map the bipolar output to binary\n",
    "accel_out_binary = (accel_out + 1) / 2"
   ]
  },
  {
   "cell_type": "code",
   "execution_count": 42,
   "id": "5c273dd1",
   "metadata": {},
   "outputs": [
    {
     "name": "stdout",
     "output_type": "stream",
     "text": [
      "Returned label is 0 (normal data)\n"
     ]
    }
   ],
   "source": [
    "print(\"Returned label is: %d (%s data)\" % (accel_out_binary, (lambda x: \"normal\" if x==0 else \"abnormal\")(accel_out_binary)))"
   ]
  },
  {
   "cell_type": "markdown",
   "id": "1149e06f",
   "metadata": {},
   "source": [
    "# Validate accuracy on 82000 (out of 82332) records from UNSW-NB15 test set"
   ]
  },
  {
   "cell_type": "markdown",
   "id": "64b841f2",
   "metadata": {},
   "source": [
    "To increase the throughput, let's increase the batch size. Note that the FINN accelerator operates on a batch size of 1, but to fill the compute pipeline, we'll copy a greater chunk of the test set to the device buffer."
   ]
  },
  {
   "cell_type": "code",
   "execution_count": 66,
   "id": "f51e3e49",
   "metadata": {},
   "outputs": [],
   "source": [
    "batch_size = 1000\n",
    "accel.batch_size = batch_size\n",
    "(test_imgs, test_labels) = make_unsw_nb15_test_batches(batch_size)"
   ]
  },
  {
   "cell_type": "code",
   "execution_count": 67,
   "id": "f8c88f49",
   "metadata": {},
   "outputs": [],
   "source": [
    "ok = 0\n",
    "nok = 0\n",
    "n_batches = test_imgs.shape[0]\n",
    "total = batch_size*n_batches"
   ]
  },
  {
   "cell_type": "code",
   "execution_count": 68,
   "id": "a26358f9",
   "metadata": {
    "scrolled": true
   },
   "outputs": [
    {
     "name": "stdout",
     "output_type": "stream",
     "text": [
      "batch 1 / 82 : total OK 866 NOK 134\n",
      "batch 2 / 82 : total OK 1706 NOK 294\n",
      "batch 3 / 82 : total OK 2607 NOK 393\n",
      "batch 4 / 82 : total OK 3490 NOK 510\n",
      "batch 5 / 82 : total OK 4438 NOK 562\n",
      "batch 6 / 82 : total OK 5380 NOK 620\n",
      "batch 7 / 82 : total OK 6290 NOK 710\n",
      "batch 8 / 82 : total OK 7261 NOK 739\n",
      "batch 9 / 82 : total OK 8174 NOK 826\n",
      "batch 10 / 82 : total OK 9109 NOK 891\n",
      "batch 11 / 82 : total OK 10026 NOK 974\n",
      "batch 12 / 82 : total OK 10963 NOK 1037\n",
      "batch 13 / 82 : total OK 11955 NOK 1045\n",
      "batch 14 / 82 : total OK 12950 NOK 1050\n",
      "batch 15 / 82 : total OK 13948 NOK 1052\n",
      "batch 16 / 82 : total OK 14948 NOK 1052\n",
      "batch 17 / 82 : total OK 15947 NOK 1053\n",
      "batch 18 / 82 : total OK 16947 NOK 1053\n",
      "batch 19 / 82 : total OK 17947 NOK 1053\n",
      "batch 20 / 82 : total OK 18946 NOK 1054\n",
      "batch 21 / 82 : total OK 19946 NOK 1054\n",
      "batch 22 / 82 : total OK 20945 NOK 1055\n",
      "batch 23 / 82 : total OK 21942 NOK 1058\n",
      "batch 24 / 82 : total OK 22939 NOK 1061\n",
      "batch 25 / 82 : total OK 23938 NOK 1062\n",
      "batch 26 / 82 : total OK 24938 NOK 1062\n",
      "batch 27 / 82 : total OK 25938 NOK 1062\n",
      "batch 28 / 82 : total OK 26938 NOK 1062\n",
      "batch 29 / 82 : total OK 27938 NOK 1062\n",
      "batch 30 / 82 : total OK 28938 NOK 1062\n",
      "batch 31 / 82 : total OK 29938 NOK 1062\n",
      "batch 32 / 82 : total OK 30938 NOK 1062\n",
      "batch 33 / 82 : total OK 31938 NOK 1062\n",
      "batch 34 / 82 : total OK 32938 NOK 1062\n",
      "batch 35 / 82 : total OK 33938 NOK 1062\n",
      "batch 36 / 82 : total OK 34938 NOK 1062\n",
      "batch 37 / 82 : total OK 35938 NOK 1062\n",
      "batch 38 / 82 : total OK 36938 NOK 1062\n",
      "batch 39 / 82 : total OK 37937 NOK 1063\n",
      "batch 40 / 82 : total OK 38937 NOK 1063\n",
      "batch 41 / 82 : total OK 39880 NOK 1120\n",
      "batch 42 / 82 : total OK 40845 NOK 1155\n",
      "batch 43 / 82 : total OK 41807 NOK 1193\n",
      "batch 44 / 82 : total OK 42640 NOK 1360\n",
      "batch 45 / 82 : total OK 43252 NOK 1748\n",
      "batch 46 / 82 : total OK 43917 NOK 2083\n",
      "batch 47 / 82 : total OK 44605 NOK 2395\n",
      "batch 48 / 82 : total OK 45358 NOK 2642\n",
      "batch 49 / 82 : total OK 46111 NOK 2889\n",
      "batch 50 / 82 : total OK 46901 NOK 3099\n",
      "batch 51 / 82 : total OK 47700 NOK 3300\n",
      "batch 52 / 82 : total OK 48504 NOK 3496\n",
      "batch 53 / 82 : total OK 49355 NOK 3645\n",
      "batch 54 / 82 : total OK 50179 NOK 3821\n",
      "batch 55 / 82 : total OK 51106 NOK 3894\n",
      "batch 56 / 82 : total OK 51988 NOK 4012\n",
      "batch 57 / 82 : total OK 52928 NOK 4072\n",
      "batch 58 / 82 : total OK 53801 NOK 4199\n",
      "batch 59 / 82 : total OK 54701 NOK 4299\n",
      "batch 60 / 82 : total OK 55548 NOK 4452\n",
      "batch 61 / 82 : total OK 56393 NOK 4607\n",
      "batch 62 / 82 : total OK 57198 NOK 4802\n",
      "batch 63 / 82 : total OK 58004 NOK 4996\n",
      "batch 64 / 82 : total OK 58766 NOK 5234\n",
      "batch 65 / 82 : total OK 59543 NOK 5457\n",
      "batch 66 / 82 : total OK 60307 NOK 5693\n",
      "batch 67 / 82 : total OK 61290 NOK 5710\n",
      "batch 68 / 82 : total OK 62205 NOK 5795\n",
      "batch 69 / 82 : total OK 63128 NOK 5872\n",
      "batch 70 / 82 : total OK 64082 NOK 5918\n",
      "batch 71 / 82 : total OK 65053 NOK 5947\n",
      "batch 72 / 82 : total OK 66017 NOK 5983\n",
      "batch 73 / 82 : total OK 66978 NOK 6022\n",
      "batch 74 / 82 : total OK 67839 NOK 6161\n",
      "batch 75 / 82 : total OK 68703 NOK 6297\n",
      "batch 76 / 82 : total OK 69624 NOK 6376\n",
      "batch 77 / 82 : total OK 70600 NOK 6400\n",
      "batch 78 / 82 : total OK 71577 NOK 6423\n",
      "batch 79 / 82 : total OK 72551 NOK 6449\n",
      "batch 80 / 82 : total OK 73459 NOK 6541\n",
      "batch 81 / 82 : total OK 74418 NOK 6582\n",
      "batch 82 / 82 : total OK 75357 NOK 6643\n"
     ]
    }
   ],
   "source": [
    "for i in range(n_batches):\n",
    "    inp = test_imgs[i].astype(np.float32)\n",
    "    exp = test_labels[i].astype(np.float32)\n",
    "    inp = 2 * inp - 1\n",
    "    exp = 2 * exp - 1\n",
    "    out = accel.execute(inp)\n",
    "    matches = np.count_nonzero(out.flatten() == exp.flatten())\n",
    "    nok += batch_size - matches\n",
    "    ok += matches\n",
    "    print(\"batch %d / %d : total OK %d NOK %d\" % (i + 1, n_batches, ok, nok))"
   ]
  },
  {
   "cell_type": "code",
   "execution_count": 69,
   "id": "98af33f1",
   "metadata": {},
   "outputs": [
    {
     "name": "stdout",
     "output_type": "stream",
     "text": [
      "Final accuracy: 91.898780\n"
     ]
    }
   ],
   "source": [
    "acc = 100.0 * ok / (total)\n",
    "print(\"Final accuracy: {:.2f}%\".format(acc))"
   ]
  },
  {
   "cell_type": "code",
   "execution_count": 71,
   "id": "c7d63354",
   "metadata": {},
   "outputs": [],
   "source": [
    "def run_validation():\n",
    "    for i in range(n_batches):\n",
    "        ibuf_normal = test_imgs[i].reshape(accel.ishape_normal())\n",
    "        accel.execute(ibuf_normal)"
   ]
  },
  {
   "cell_type": "code",
   "execution_count": 72,
   "id": "e6a7fa9d",
   "metadata": {},
   "outputs": [
    {
     "name": "stdout",
     "output_type": "stream",
     "text": [
      "33.3 s ± 698 ms per loop (mean ± std. dev. of 7 runs, 1 loop each)\n"
     ]
    }
   ],
   "source": [
    "full_validation_time = %timeit -n 1 -o run_validation()"
   ]
  },
  {
   "cell_type": "code",
   "execution_count": 73,
   "id": "e2dde028",
   "metadata": {},
   "outputs": [
    {
     "name": "stdout",
     "output_type": "stream",
     "text": [
      "2542.157784 images per second including data movement\n"
     ]
    }
   ],
   "source": [
    "print(\"%f images per second including data movement\" % (total / float(full_validation_time.best)))"
   ]
  },
  {
   "cell_type": "markdown",
   "id": "f95c0d3a",
   "metadata": {},
   "source": [
    "# More benchmarking"
   ]
  },
  {
   "cell_type": "code",
   "execution_count": 74,
   "id": "f79491c3",
   "metadata": {},
   "outputs": [
    {
     "data": {
      "text/plain": [
       "{'runtime[ms]': 1.0788440704345703,\n",
       " 'throughput[images/s]': 926918.0110497237,\n",
       " 'DRAM_in_bandwidth[MB/s]': 69.51885082872928,\n",
       " 'DRAM_out_bandwidth[MB/s]': 0.9269180110497238,\n",
       " 'fclk[mhz]': 100.0,\n",
       " 'batch_size': 1000,\n",
       " 'fold_input[ms]': 0.09775161743164062,\n",
       " 'pack_input[ms]': 71.11644744873047,\n",
       " 'copy_input_data_to_device[ms]': 2.642393112182617,\n",
       " 'copy_output_data_from_device[ms]': 0.2548694610595703,\n",
       " 'unpack_output[ms]': 355.4694652557373,\n",
       " 'unfold_output[ms]': 0.05626678466796875}"
      ]
     },
     "execution_count": 74,
     "metadata": {},
     "output_type": "execute_result"
    }
   ],
   "source": [
    "accel.throughput_test()"
   ]
  },
  {
   "attachments": {},
   "cell_type": "markdown",
   "id": "9ca5c916",
   "metadata": {},
   "source": [
    "The measured `throughput` of the accelerator, excluding any software and data movement overhead, is influenced by the batch size. The more we fill the compute pipeline, the higher the throughput.\n",
    "Note that the total runtime consists of the overhead of packing/unpacking the inputs/outputs to convert form numpy arrays to the bit-contiguous data representation our accelerator expectes (`pack_input`/`unpack_output`), the cost of moving data between the CPU and accelerator memories (`copy_input_data_to_device`/`copy_output_data_from_device`), as well as the accelerator's execution time."
   ]
  }
 ],
 "metadata": {
  "kernelspec": {
   "display_name": "Python 3 (ipykernel)",
   "language": "python",
   "name": "python3"
  },
  "language_info": {
   "codemirror_mode": {
    "name": "ipython",
    "version": 3
   },
   "file_extension": ".py",
   "mimetype": "text/x-python",
   "name": "python",
   "nbconvert_exporter": "python",
   "pygments_lexer": "ipython3",
   "version": "3.10.4"
  }
 },
 "nbformat": 4,
 "nbformat_minor": 5
}
